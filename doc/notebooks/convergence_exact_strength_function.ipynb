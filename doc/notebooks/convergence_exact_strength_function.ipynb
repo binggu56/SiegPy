{
 "cells": [
  {
   "cell_type": "markdown",
   "metadata": {},
   "source": [
    "# Convergence of the exact strength function\n",
    "\n",
    "This notebook presents the **convergence of the numerical evaluation of the exact strength function (SF)**, noted $S$:\n",
    "\n",
    "$S(k) = - \\frac{1}{\\pi} \\Im \\left\\langle g | G(k) | g \\right\\rangle$\n",
    "\n",
    "where $G$ is the **Green's function** (or resolvent) of the Hamiltonian and $g$ is a test function.\n",
    "\n",
    "The exact Green's function may be written as follows:\n",
    "\n",
    "$G(k) = \\sum_b \\frac{\\left| \\varphi_b \\right\\rangle \\left\\langle \\varphi_b \\right|}{k^2/2 - {k_b}^2/2}\n",
    "      + \\sum_{p = \\pm} \\int_0^{+\\infty} \\text{d} k_1 \\frac{\\left| \\varphi_p \\right\\rangle \\left\\langle \\varphi_p \\right|}{k^2/2 - {k_1}^2/2}$\n",
    "      \n",
    "where the first sum runs over the bound states (subscript $b$) (of wavenumber $k_b$), while the second one runs over the continuum states of wavenumber ($k_1$), which can be even (subscript $+$) or odd (subscript $-$).\n",
    "\n",
    "It is studied in the case of the **1D Square-Well potential**, where the analytical continuum wavefunctions are known. The strength function can therefore be computed numerically. The numerical convergence of this exact computation has to be considered, and this is the purpose of the present notebook.\n",
    "\n",
    "**Two numerical schemes to compute the the exact strength function will be presented:**\n",
    "* the first one uses a ***large basis set of continuum states*** (of wavenumber $k_1$) evenly distributed (with a grid-step `hk`) on a given range of wavenumbers (from 0 to `kmax`). For each wavenumber $k$ where the strength function is computed, an integral over all the continuum states in the basis set is performed.\n",
    "* the second one uses the fact that ***the integrals over the continuum can be made on a very limited range of wavenumbers rather than on the whole basis set***, given that the integrand is peaked around the wavenumber $k$ of the strength function grid. Therefore, defining a minimal continuum basis-set for each evaluation of the strength function allows drastic savings in computation time with a constrained numerical error, that allows to reach smaller `hk` values.\n",
    "\n",
    "Also, to avoid the pole at $k = k_1$ in the integral over the continuum, one needs to add a infinitesimal number $i \\eta$ in the denominator of the integrand. Therefore, the convergence of the two schemes with the decrease of this parameter `eta` must be discussed as well."
   ]
  },
  {
   "cell_type": "markdown",
   "metadata": {},
   "source": [
    "#### Import some modules and classes"
   ]
  },
  {
   "cell_type": "code",
   "execution_count": null,
   "metadata": {},
   "outputs": [],
   "source": [
    "# Make the notebook aware of some of the SiegPy module classes\n",
    "from siegpy import SWPBasisSet, Rectangular, Gaussian, SWPotential\n",
    "# Other imports\n",
    "import numpy as np\n",
    "import matplotlib.pyplot as plt"
   ]
  },
  {
   "cell_type": "markdown",
   "metadata": {},
   "source": [
    "## Define a 1D Square-Well Potential.\n",
    "\n",
    "A 1D SW potential is caracterized by its width *l* and depth *V0*."
   ]
  },
  {
   "cell_type": "code",
   "execution_count": null,
   "metadata": {},
   "outputs": [],
   "source": [
    "V0 = 10  # depth of the potential\n",
    "l = np.sqrt(2) * np.pi  # width of the potential\n",
    "potential = SWPotential(l, V0)"
   ]
  },
  {
   "cell_type": "markdown",
   "metadata": {},
   "source": [
    "## Create a basis-set made of Siegert states only.\n",
    "\n",
    "Only to allow the creation of an exact basis set and to be able to compare the exact SF with the MLE of the SF."
   ]
  },
  {
   "cell_type": "code",
   "execution_count": null,
   "metadata": {},
   "outputs": [],
   "source": [
    "re_kmax = 20.\n",
    "im_kmax = 3.\n",
    "re_hk = 1.\n",
    "im_hk = 2.\n",
    "siegerts = SWPBasisSet.find_Siegert_states(potential, re_kmax, re_hk, im_kmax, im_hk=im_hk, analytic=True)"
   ]
  },
  {
   "cell_type": "markdown",
   "metadata": {},
   "source": [
    "## Create an exact basis-set, made of bound and continuum states.\n",
    "\n",
    "The bound states can be taken from the previous calculation finding the Siegert states (given that bound states are nothing but a particuliar type of Siegert states), while the continuum states are discretized over a grid of real wavenumbers. This grid is caracterized by the grid step `hk` and the maximal wavenumber `kmax`."
   ]
  },
  {
   "cell_type": "code",
   "execution_count": null,
   "metadata": {},
   "outputs": [],
   "source": [
    "# Find some continuum states\n",
    "hk = 0.01\n",
    "kmax = 10\n",
    "continuum = SWPBasisSet.find_continuum_states(potential, kmax, hk)\n",
    "\n",
    "# Create the exact basis set\n",
    "exact = siegerts.bounds + continuum"
   ]
  },
  {
   "cell_type": "markdown",
   "metadata": {},
   "source": [
    "## Define a test function to evaluate the strength function.\n",
    "\n",
    "The strength function (SF) is evaluated using a test function $g$. For the MLE of the SF to hold, the test function must lie in region $II$ (inside the potential, where $|x| \\leq l/2$). The cases of a Gaussian test function and of a rectangular test function are studied."
   ]
  },
  {
   "cell_type": "code",
   "execution_count": null,
   "metadata": {},
   "outputs": [],
   "source": [
    "xc = 0.0  # center of the test functions\n",
    "a = l/2.  # width of the rectangular function\n",
    "sigma = l/20.  # width of the Gaussian\n",
    "gauss = Gaussian(sigma, xc)  # Gaussian test function\n",
    "rect = Rectangular.from_width_and_center(a, xc)  # Rectangular test function"
   ]
  },
  {
   "cell_type": "markdown",
   "metadata": {},
   "source": [
    "## Create the grid of wavenumbers where the strength function is evaluated\n",
    "\n",
    "It is not mandatory to keep the same grid as for the continuum states, and it is strongly advised to decrease this number as much as possible to save computation time, since an integration over all continuum states is performed for each point in this grid, that only defines the grid used for plotting."
   ]
  },
  {
   "cell_type": "code",
   "execution_count": null,
   "metadata": {},
   "outputs": [],
   "source": [
    "hk = 0.1  # Grid-step for plotting\n",
    "kmax = 10  # Maximal wavenumber for plotting\n",
    "kgrid = np.arange(hk, kmax, hk)"
   ]
  },
  {
   "cell_type": "markdown",
   "metadata": {},
   "source": [
    "## Strength function for a Gaussian test function\n",
    "\n",
    "Both exact and approximate strength functions are calculated, the latter being very cheap to obtain, whereas the exact SF takes a long time due to the integrations over the continuum, that must extend to a large `kmax` and be very dense (small `hk`). It is very difficult to get a converged result with respect to the amelioration of the continuum states basis (*i.e.* with smaller `hk` and larger `kmax`). Learning from the numerical convergence of this scheme, it was possible to produce another scheme allowing a better convergence (using smaller `eta` and `hk`) within a reasonable amount of time, by avoiding the need to discretize a dense basis set of continuum states over the whole range of wavenumbers.\n",
    "\n",
    "Note that there is no need to use a basis made of continuum states to compute the exact strength function \"on the fly\". Some default values for `hk`, `eta` and a tolerance parameters are passed to this method. They were found to give a good compromise between accuracy and speed for a large number of cases.\n",
    "\n",
    "Both MLE and converged exact SF give very comparable results."
   ]
  },
  {
   "cell_type": "code",
   "execution_count": null,
   "metadata": {},
   "outputs": [],
   "source": [
    "SF_MLE_gauss         = siegerts.MLE_strength_function(gauss, kgrid)\n",
    "SF_exact_gauss       = exact.exact_strength_function(gauss, kgrid)\n",
    "SF_exact_gauss_other = siegerts.exact_strength_function_OTF(gauss, kgrid)"
   ]
  },
  {
   "cell_type": "code",
   "execution_count": null,
   "metadata": {},
   "outputs": [],
   "source": [
    "# Compare the exact SF to the MLE of the SF\n",
    "plt.plot(kgrid, SF_MLE_gauss, color='k', lw=5, label='MLE')\n",
    "plt.plot(kgrid, SF_exact_gauss, label='Exact')\n",
    "plt.plot(kgrid, SF_exact_gauss_other, label='Exact (converged)')\n",
    "plt.xlabel(\"$k$\")\n",
    "plt.ylabel(\"$S(k)$\")\n",
    "plt.title('Gaussian test function')\n",
    "plt.legend()\n",
    "plt.show()"
   ]
  },
  {
   "cell_type": "markdown",
   "metadata": {},
   "source": [
    "## Tests of convergence of the exact strength function using the whole continuum basis set\n",
    "\n",
    "Some parameters are important to get converged exact strength functions:\n",
    "* `hk` is the wavenumber step between two adjacent continuum states in the basis set. The smaller it gets, the denser the basis-set is.\n",
    "* `kmax` is the highest wavenumber of a continuum state in the basis set. The larger it is, the more complete the basis set is.\n",
    "* `eta` is a the imaginary part of a number added to the denominator of the integrand in the definition of the Green's function to avoid poles alomg the real axis. It must tend to 0."
   ]
  },
  {
   "cell_type": "markdown",
   "metadata": {},
   "source": [
    "### Convergence with respect to `kmax`\n",
    "\n",
    "Increasing `kmax` allows for the discretization of the strength function to reach higher wavenumbers.\n",
    "\n",
    "The integrand for each wavenumber in the grid is peaked around the value of the wavenumber, so it might be quicker (and allowing greater precision) to only integrate around each wavenumber of the plotting grid, rather than all the continuum grid. Therefore, there is still a need for a rather dense basis set of continuum states, but only around each point of the desired plotting grid."
   ]
  },
  {
   "cell_type": "code",
   "execution_count": null,
   "metadata": {},
   "outputs": [],
   "source": [
    "hk = 0.01\n",
    "results_hk = {}\n",
    "for kmax in [1, 3, 5, 7.5, 10]:\n",
    "    print(\"kmax =\", kmax)\n",
    "    continuum = SWPBasisSet.find_continuum_states(potential, kmax, hk)\n",
    "    exact = siegerts.bounds + continuum\n",
    "    # print(\"Number of states in the basis-set:\", len(exact))\n",
    "    results_hk[str(kmax)] = exact.exact_strength_function(gauss, kgrid)"
   ]
  },
  {
   "cell_type": "code",
   "execution_count": null,
   "metadata": {},
   "outputs": [],
   "source": [
    "MLE_g = siegerts.MLE_strength_function(gauss, kgrid)\n",
    "plt.plot(kgrid, MLE_g, label=\"MLE\", lw=5, color='k')\n",
    "for k, v in results_hk.items():\n",
    "    plt.plot(kgrid, v, label='$k_{max}$ = '+k)\n",
    "plt.legend()\n",
    "plt.show()"
   ]
  },
  {
   "cell_type": "markdown",
   "metadata": {},
   "source": [
    "### Convergence with respect to `hk`\n",
    "\n",
    "There is a convergence as long as `hk` decreases, but it really depends on the `eta` value. \n",
    "For a given `eta`, a convergence is reached approximately when it is five times greater than `hk`.\n",
    "\n",
    "#### `eta` = 0.1"
   ]
  },
  {
   "cell_type": "code",
   "execution_count": null,
   "metadata": {},
   "outputs": [],
   "source": [
    "kmax = 10.\n",
    "results_kmax_1 = {}\n",
    "for hk in [0.1, 0.05, 0.01, 0.005]:\n",
    "    print(\"hk =\", hk)\n",
    "    continuum = SWPBasisSet.find_continuum_states(potential, kmax, hk)\n",
    "    exact = siegerts.bounds + continuum\n",
    "    # print(\"Number of states in the basis-set:\", len(exact))\n",
    "    results_kmax_1[str(hk)] = exact.exact_strength_function(gauss, kgrid, eta=0.1)"
   ]
  },
  {
   "cell_type": "code",
   "execution_count": null,
   "metadata": {},
   "outputs": [],
   "source": [
    "plt.plot(kgrid, MLE_g, label=\"MLE\", lw=5, color='k')\n",
    "for k, v in results_kmax_1.items():\n",
    "    plt.plot(kgrid, v, label='$h_k$ = '+k)\n",
    "plt.legend()\n",
    "plt.show()"
   ]
  },
  {
   "cell_type": "code",
   "execution_count": null,
   "metadata": {},
   "outputs": [],
   "source": [
    "for k, v in results_kmax_1.items():\n",
    "    plt.plot(kgrid, abs(v-MLE_g)/MLE_g, label='$h_k$ = '+k)\n",
    "plt.title('Relative error')\n",
    "plt.yscale('log')\n",
    "plt.legend(loc=6, bbox_to_anchor=(1, 0.5))\n",
    "plt.show()"
   ]
  },
  {
   "cell_type": "code",
   "execution_count": null,
   "metadata": {},
   "outputs": [],
   "source": [
    "for k, v in results_kmax_1.items():\n",
    "    plt.plot(kgrid, abs(v-MLE_g), label='$h_k$ = '+k)\n",
    "plt.plot()\n",
    "plt.title('Absolute Error')\n",
    "plt.yscale('log')\n",
    "plt.legend(loc=6, bbox_to_anchor=(1, 0.5))\n",
    "plt.show()"
   ]
  },
  {
   "cell_type": "markdown",
   "metadata": {},
   "source": [
    "#### `eta` = 0.05\n",
    "\n",
    "The convergence is reached for `hk` = 0.01"
   ]
  },
  {
   "cell_type": "code",
   "execution_count": null,
   "metadata": {},
   "outputs": [],
   "source": [
    "kmax = 10.\n",
    "results_kmax_2 = {}\n",
    "for hk in [0.1, 0.05, 0.01, 0.005]:\n",
    "    print(\"hk =\", hk)\n",
    "    continuum = SWPBasisSet.find_continuum_states(potential, kmax, hk)\n",
    "    exact = siegerts.bounds + continuum\n",
    "    # print(\"Number of states in the basis-set:\", len(exact))\n",
    "    results_kmax_2[str(hk)] = exact.exact_strength_function(gauss, kgrid, eta=0.05)"
   ]
  },
  {
   "cell_type": "code",
   "execution_count": null,
   "metadata": {},
   "outputs": [],
   "source": [
    "plt.plot(kgrid, MLE_g, label=\"MLE\", lw=5, color='k')\n",
    "for k, v in results_kmax_2.items():\n",
    "    plt.plot(kgrid, v, label='$h_k$ = '+k)\n",
    "plt.legend()\n",
    "plt.show()"
   ]
  },
  {
   "cell_type": "code",
   "execution_count": null,
   "metadata": {},
   "outputs": [],
   "source": [
    "for k, v in results_kmax_2.items():\n",
    "    plt.plot(kgrid, abs(v-MLE_g)/MLE_g, label='$h_k$ = '+k)\n",
    "plt.plot()\n",
    "plt.title('Relative error')\n",
    "plt.yscale('log')\n",
    "plt.legend(loc=6, bbox_to_anchor=(1, 0.5))\n",
    "plt.show()"
   ]
  },
  {
   "cell_type": "code",
   "execution_count": null,
   "metadata": {},
   "outputs": [],
   "source": [
    "for k, v in results_kmax_2.items():\n",
    "    plt.plot(kgrid, abs(v-MLE_g), label='$h_k$ = '+k)\n",
    "plt.plot()\n",
    "plt.title('Absolute Error')\n",
    "plt.yscale('log')\n",
    "plt.legend(loc=6, bbox_to_anchor=(1, 0.5))\n",
    "plt.show()"
   ]
  },
  {
   "cell_type": "markdown",
   "metadata": {},
   "source": [
    "#### *eta* = 0.01"
   ]
  },
  {
   "cell_type": "code",
   "execution_count": null,
   "metadata": {},
   "outputs": [],
   "source": [
    "kmax = 10.\n",
    "results_kmax_3 = {}\n",
    "for hk in [0.1, 0.05, 0.01, 0.005, 0.002]:\n",
    "    print(\"hk =\", hk)\n",
    "    continuum = SWPBasisSet.find_continuum_states(potential, kmax, hk)\n",
    "    exact = siegerts.bounds + continuum\n",
    "    # print(\"Number of states in the basis-set:\", len(exact))\n",
    "    results_kmax_3[str(hk)] = exact.exact_strength_function(gauss, kgrid, eta=0.01)"
   ]
  },
  {
   "cell_type": "code",
   "execution_count": null,
   "metadata": {},
   "outputs": [],
   "source": [
    "plt.plot(kgrid, MLE_g, label=\"MLE\", lw=5, color='k')\n",
    "for k, v in results_kmax_3.items():\n",
    "    plt.plot(kgrid, v, label='$h_k$ = '+k)\n",
    "plt.legend()\n",
    "plt.show()"
   ]
  },
  {
   "cell_type": "code",
   "execution_count": null,
   "metadata": {},
   "outputs": [],
   "source": [
    "for k, v in results_kmax_3.items():\n",
    "    plt.plot(kgrid, abs(v-MLE_g)/MLE_g, label='$h_k$ = '+k)\n",
    "plt.plot()\n",
    "plt.title('Relative error')\n",
    "plt.yscale('log')\n",
    "plt.legend(loc=6, bbox_to_anchor=(1, 0.5))\n",
    "plt.show()"
   ]
  },
  {
   "cell_type": "code",
   "execution_count": null,
   "metadata": {},
   "outputs": [],
   "source": [
    "for k, v in results_kmax_3.items():\n",
    "    plt.plot(kgrid, abs(v-MLE_g), label='$h_k$ = '+k)\n",
    "plt.plot()\n",
    "plt.title('Absolute Error')\n",
    "plt.yscale('log')\n",
    "plt.legend(loc=6, bbox_to_anchor=(1, 0.5))\n",
    "plt.show()"
   ]
  },
  {
   "cell_type": "markdown",
   "metadata": {},
   "source": [
    "### Convergence with respect to `eta`\n",
    "\n",
    "For a given `hk`, there is a value of `eta` that maximizes the closeness to the MLE of the SF. This parameter must be chosen carefully to get high quality results of the computation. \n",
    "\n",
    "It seems that the best choice is $\\frac{eta}{h_k} \\in [5,10]$ for reasonably small `hk` values. The default value of eta is therefore equal to 5 `hk`.\n",
    "\n",
    "#### `hk` = 0.01"
   ]
  },
  {
   "cell_type": "code",
   "execution_count": null,
   "metadata": {},
   "outputs": [],
   "source": [
    "kmax = 10.\n",
    "hk = 0.01\n",
    "results_eta_1 = {}\n",
    "continuum = SWPBasisSet.find_continuum_states(potential, kmax, hk)\n",
    "exact = siegerts.bounds + continuum\n",
    "for eta in [1.0, 0.5, 0.1, 0.06, 0.05, 0.04, 0.025, 0.01, 0.001]:\n",
    "    print(\"eta =\", eta)\n",
    "    # print(\"Number of states in the basis-set:\", len(exact))\n",
    "    results_eta_1[str(eta)] = exact.exact_strength_function(gauss, kgrid, eta=eta)"
   ]
  },
  {
   "cell_type": "code",
   "execution_count": null,
   "metadata": {},
   "outputs": [],
   "source": [
    "plt.plot(kgrid, MLE_g, label=\"MLE\", lw=5, color='k')\n",
    "for k, v in results_eta_1.items():\n",
    "    plt.plot(kgrid, v, label='$\\eta$ = '+k)\n",
    "plt.ylim(0, 0.0062)\n",
    "plt.legend(loc=6, bbox_to_anchor=(1, 0.5))\n",
    "plt.show()"
   ]
  },
  {
   "cell_type": "code",
   "execution_count": null,
   "metadata": {},
   "outputs": [],
   "source": [
    "for k, v in results_eta_1.items():\n",
    "    plt.plot(kgrid, abs(v-MLE_g)/MLE_g, label='$\\eta$ = '+k)\n",
    "plt.plot()\n",
    "plt.title('Relative error')\n",
    "plt.yscale('log')\n",
    "plt.legend(loc=6, bbox_to_anchor=(1, 0.5))\n",
    "plt.show()"
   ]
  },
  {
   "cell_type": "code",
   "execution_count": null,
   "metadata": {},
   "outputs": [],
   "source": [
    "for k, v in results_eta_1.items():\n",
    "    plt.plot(kgrid, abs(v-MLE_g), label='$\\eta$ = '+k)\n",
    "plt.plot()\n",
    "plt.title('Absolute Error')\n",
    "plt.yscale('log')\n",
    "plt.legend(loc=6, bbox_to_anchor=(1, 0.5))\n",
    "plt.show()"
   ]
  },
  {
   "cell_type": "markdown",
   "metadata": {},
   "source": [
    "#### `hk` = 0.002"
   ]
  },
  {
   "cell_type": "code",
   "execution_count": null,
   "metadata": {},
   "outputs": [],
   "source": [
    "kmax = 10.\n",
    "hk = 0.002\n",
    "results_eta_2 = {}\n",
    "continuum = SWPBasisSet.find_continuum_states(potential, kmax, hk)\n",
    "exact = siegerts.bounds + continuum\n",
    "for eta in [0.5, 0.05, 0.03, 0.02, 0.01, 0.00875, 0.0075, 0.001, 0.0005]:\n",
    "    print(\"eta =\", eta)\n",
    "    # print(\"Number of states in the basis-set:\", len(exact))\n",
    "    results_eta_2[str(eta)] = exact.exact_strength_function(gauss, kgrid, eta=eta)"
   ]
  },
  {
   "cell_type": "code",
   "execution_count": null,
   "metadata": {},
   "outputs": [],
   "source": [
    "plt.plot(kgrid, MLE_g, label=\"MLE\", lw=5, color='k')\n",
    "for k, v in results_eta_2.items():\n",
    "    plt.plot(kgrid, v, label='$\\eta$ = '+k)\n",
    "plt.ylim(0, 0.0062)\n",
    "plt.legend(loc=6, bbox_to_anchor=(1, 0.5))\n",
    "plt.show()"
   ]
  },
  {
   "cell_type": "code",
   "execution_count": null,
   "metadata": {},
   "outputs": [],
   "source": [
    "for k, v in results_eta_2.items():\n",
    "    plt.plot(kgrid, abs(v-MLE_g)/MLE_g, label='$\\eta$ = '+k)\n",
    "plt.plot()\n",
    "plt.title('Relative error')\n",
    "plt.yscale('log')\n",
    "plt.legend(loc=6, bbox_to_anchor=(1, 0.5))\n",
    "plt.show()"
   ]
  },
  {
   "cell_type": "code",
   "execution_count": null,
   "metadata": {},
   "outputs": [],
   "source": [
    "for k, v in results_eta_2.items():\n",
    "    plt.plot(kgrid, abs(v-MLE_g), label='$\\eta$ = '+k)\n",
    "plt.plot()\n",
    "plt.title('Absolute Error')\n",
    "plt.yscale('log')\n",
    "plt.legend(loc=6, bbox_to_anchor=(1, 0.5))\n",
    "plt.show()"
   ]
  },
  {
   "cell_type": "markdown",
   "metadata": {},
   "source": [
    "### Convergence by getting `hk` and `eta` smaller at the same time\n",
    "\n",
    "There is a systematic improvement as both `hk` and `eta` decrase: the exact SF converges to the MLE of the SF (taken as the reference, even though it should be the other way around, but the quality of the MLE of the SF is so good that it is easy to take it as a reference).\n",
    "\n",
    "The ratio `eta` / `hk` = 10 seems to be preferable.\n",
    "\n",
    "#### `eta` / `hk` = 10"
   ]
  },
  {
   "cell_type": "code",
   "execution_count": null,
   "metadata": {},
   "outputs": [],
   "source": [
    "kmax = 10.\n",
    "hk = 0.01\n",
    "eta = 0.1\n",
    "results_factor_1 = {}\n",
    "for factor in [1, 2, 5, 10, 20]:\n",
    "    new_eta = eta / factor\n",
    "    new_hk = hk / factor\n",
    "    print(\"eta =\", new_eta, \" ; hk =\", new_hk)\n",
    "    continuum = SWPBasisSet.find_continuum_states(potential, kmax, new_hk)\n",
    "    exact = siegerts.bounds + continuum\n",
    "    # print(\"Number of states in the basis-set:\", len(exact))\n",
    "    results_factor_1[str(factor)] = exact.exact_strength_function(gauss, kgrid, eta=new_eta)"
   ]
  },
  {
   "cell_type": "code",
   "execution_count": null,
   "metadata": {},
   "outputs": [],
   "source": [
    "plt.plot(kgrid, MLE_g, label=\"MLE\", lw=5, color='k')\n",
    "for k, v in results_factor_1.items():\n",
    "    plt.plot(kgrid, v, label='factor = '+k)\n",
    "plt.plot()\n",
    "plt.legend()\n",
    "plt.show()"
   ]
  },
  {
   "cell_type": "code",
   "execution_count": null,
   "metadata": {},
   "outputs": [],
   "source": [
    "for k, v in results_factor_1.items():\n",
    "    plt.plot(kgrid, abs(v-MLE_g)/MLE_g, label='factor = '+k)\n",
    "plt.plot()\n",
    "plt.title('Relative error')\n",
    "plt.yscale('log')\n",
    "plt.legend(loc=6, bbox_to_anchor=(1, 0.5))\n",
    "plt.show()"
   ]
  },
  {
   "cell_type": "code",
   "execution_count": null,
   "metadata": {},
   "outputs": [],
   "source": [
    "for k, v in results_factor_1.items():\n",
    "    plt.plot(kgrid, abs(v-MLE_g), label='factor = '+k)\n",
    "plt.plot()\n",
    "plt.title('Absolute Error')\n",
    "plt.yscale('log')\n",
    "plt.legend(loc=6, bbox_to_anchor=(1, 0.5))\n",
    "plt.show()"
   ]
  },
  {
   "cell_type": "markdown",
   "metadata": {},
   "source": [
    "#### `eta` / `hk` = 5"
   ]
  },
  {
   "cell_type": "code",
   "execution_count": null,
   "metadata": {},
   "outputs": [],
   "source": [
    "kmax = 10.\n",
    "hk = 0.01\n",
    "eta = 0.5\n",
    "results_factor_2 = {}\n",
    "for factor in [1, 2, 5, 10, 20]:\n",
    "    new_eta = eta / factor\n",
    "    new_hk = hk / factor\n",
    "    print(\"eta =\", new_eta, \" ; hk =\", new_hk)\n",
    "    continuum = SWPBasisSet.find_continuum_states(potential, kmax, new_hk)\n",
    "    exact = siegerts.bounds + continuum\n",
    "    # print(\"Number of states in the basis-set:\", len(exact))\n",
    "    results_factor_2[str(factor)] = exact.exact_strength_function(gauss, kgrid, eta=new_eta)"
   ]
  },
  {
   "cell_type": "code",
   "execution_count": null,
   "metadata": {},
   "outputs": [],
   "source": [
    "plt.plot(kgrid, MLE_g, label=\"MLE\", lw=5, color='k')\n",
    "for k, v in results_factor_2.items():\n",
    "    plt.plot(kgrid, v, label='factor = '+k)\n",
    "plt.plot()\n",
    "plt.legend()\n",
    "plt.show()"
   ]
  },
  {
   "cell_type": "code",
   "execution_count": null,
   "metadata": {},
   "outputs": [],
   "source": [
    "for k, v in results_factor_2.items():\n",
    "    plt.plot(kgrid, abs(v-MLE_g)/MLE_g, label='factor = '+k)\n",
    "plt.plot()\n",
    "plt.title('Relative error')\n",
    "plt.yscale('log')\n",
    "plt.legend(loc=6, bbox_to_anchor=(1, 0.5))\n",
    "plt.show()"
   ]
  },
  {
   "cell_type": "code",
   "execution_count": null,
   "metadata": {},
   "outputs": [],
   "source": [
    "for k, v in results_factor_2.items():\n",
    "    plt.plot(kgrid, abs(v-MLE_g), label='factor = '+k)\n",
    "plt.plot()\n",
    "plt.title('Absolute Error')\n",
    "plt.yscale('log')\n",
    "plt.legend(loc=6, bbox_to_anchor=(1, 0.5))\n",
    "plt.show()"
   ]
  },
  {
   "cell_type": "markdown",
   "metadata": {},
   "source": [
    "## Test of the other scheme to get the exact strength function\n",
    "\n",
    "As experienced above, it is difficult to get an exact strength function converged with respect to the basis set of continuum states. This is due to the fact that, the denser the basis set, the longer it takes to perform the integral over the continuum. This integral being performed for each wavenumber where the strength function is evaluated, it can rapidly become overwhelmimgly long.\n",
    "\n",
    "However, each integral is peaked around the wavenumber where the strength function is evaluated and vanishes quickly (this can be inferred from the tests performed with respect to the basis set range `kmax`). We take advantage of that fact in this new method for computing the exact strength function calculation, so that is takes a (way) shorter time to get a converged strength function. The idea is to perform the minimal integrals over the continuum, given some input parameters:\n",
    "* `hk` is the spacing between two consecutive continuum states used to build the integrand for each point in the wavenumber grid.\n",
    "* `tol` is a tolerance value: a new point is appended to the integrand function if the ratio between the new value of the integrand and the maximum of the integrand is superior to that tolerance. \n",
    "* `eta` is the same infinitesimal number as in the other scheme (used to avoid the infinite value of the integrand for each wavenumber of the grid)\n",
    "\n",
    "The first example shows the exact SF using the default values for the \"on the fly\" exact evaluation of the SF for a Gaussian test function. "
   ]
  },
  {
   "cell_type": "code",
   "execution_count": null,
   "metadata": {},
   "outputs": [],
   "source": [
    "MLE_g = siegerts.MLE_strength_function(gauss, kgrid)\n",
    "sf_g = siegerts.exact_strength_function_OTF(gauss, kgrid)\n",
    "plt.plot(kgrid, MLE_g, label=\"MLE\", lw=5, color='k')\n",
    "plt.plot(kgrid, sf_g, label=\"exact\")\n",
    "plt.legend()\n",
    "plt.show()"
   ]
  },
  {
   "cell_type": "markdown",
   "metadata": {},
   "source": [
    "The second example is the same as the previous one, but for a rectangular test function. "
   ]
  },
  {
   "cell_type": "code",
   "execution_count": null,
   "metadata": {},
   "outputs": [],
   "source": [
    "MLE_r = siegerts.MLE_strength_function(rect, kgrid)\n",
    "sf_r = siegerts.exact_strength_function_OTF(rect, kgrid)\n",
    "plt.plot(kgrid, MLE_r, label=\"MLE\", lw=5, color='k')\n",
    "plt.plot(kgrid, sf_r, label=\"exact\")\n",
    "plt.legend()\n",
    "plt.show()"
   ]
  },
  {
   "cell_type": "markdown",
   "metadata": {},
   "source": [
    "Here are the results obtained when varying the default values of `hk` and `tol` for a Gaussian test function."
   ]
  },
  {
   "cell_type": "code",
   "execution_count": null,
   "metadata": {},
   "outputs": [],
   "source": [
    "MLE_g = siegerts.MLE_strength_function(gauss, kgrid)\n",
    "sf_1 = siegerts.exact_strength_function_OTF(gauss, kgrid, hk=0.0001, tol=0.0001, eta=0.001) #default\n",
    "sf_2 = siegerts.exact_strength_function_OTF(gauss, kgrid, hk=0.0001, tol=0.00001, eta=0.001)\n",
    "sf_3 = siegerts.exact_strength_function_OTF(gauss, kgrid, hk=0.001, tol=0.00001, eta=0.001)\n",
    "sf_4 = siegerts.exact_strength_function_OTF(gauss, kgrid, hk=0.00001, tol=0.00001, eta=0.001)\n",
    "sf_5 = siegerts.exact_strength_function_OTF(gauss, kgrid, hk=0.00001, tol=0.0001, eta=0.001)"
   ]
  },
  {
   "cell_type": "code",
   "execution_count": null,
   "metadata": {},
   "outputs": [],
   "source": [
    "for sf in sf_1, sf_2, sf_3, sf_4, sf_5:\n",
    "    plt.plot(kgrid, abs(sf-MLE_g))\n",
    "plt.plot()\n",
    "plt.title('Absolute Error')\n",
    "plt.yscale('log')\n",
    "plt.show()"
   ]
  },
  {
   "cell_type": "code",
   "execution_count": null,
   "metadata": {},
   "outputs": [],
   "source": [
    "for sf in sf_1, sf_2, sf_3, sf_4, sf_5:\n",
    "    plt.plot(kgrid, abs(sf-MLE_g)/MLE_g)\n",
    "plt.plot()\n",
    "plt.title('Relative error')\n",
    "plt.yscale('log')\n",
    "plt.show()"
   ]
  },
  {
   "cell_type": "markdown",
   "metadata": {},
   "source": [
    "### Convergence with respect to `hk`\n",
    "\n",
    "There is a convergence as `hk` decreases for a given `eta`. Reach smaller values of `hk` is not prohibitive (the default value is already smaller than the ones used with the other scheme)\n",
    "\n",
    "#### `eta` = 10$^{-3}$"
   ]
  },
  {
   "cell_type": "code",
   "execution_count": null,
   "metadata": {},
   "outputs": [],
   "source": [
    "tol = 10**(-5)\n",
    "eta = 10**(-3)\n",
    "result_hk_1 = {}\n",
    "for hk in [10**(-n) for n in [2, 3, 4]]:\n",
    "    print(hk)\n",
    "    result_hk_1[str(hk)] = siegerts.exact_strength_function_OTF(gauss, kgrid, hk=hk, tol=tol, eta=eta)"
   ]
  },
  {
   "cell_type": "code",
   "execution_count": null,
   "metadata": {},
   "outputs": [],
   "source": [
    "plt.plot(kgrid, MLE_g, label=\"MLE\", lw=5, color='k')\n",
    "for k, v in result_hk_1.items():\n",
    "    plt.plot(kgrid, v, label='$h_k$ = '+k)\n",
    "plt.plot()\n",
    "plt.ylim(0.0, 0.008)\n",
    "plt.legend()\n",
    "plt.show()"
   ]
  },
  {
   "cell_type": "code",
   "execution_count": null,
   "metadata": {},
   "outputs": [],
   "source": [
    "for k, v in result_hk_1.items():\n",
    "    plt.plot(kgrid, abs(v-MLE_g)/MLE_g, label='$h_k$ = '+k)\n",
    "plt.plot()\n",
    "plt.title('Relative error')\n",
    "plt.yscale('log')\n",
    "plt.legend(loc=6, bbox_to_anchor=(1, 0.5))\n",
    "plt.show()"
   ]
  },
  {
   "cell_type": "code",
   "execution_count": null,
   "metadata": {},
   "outputs": [],
   "source": [
    "for k, v in result_hk_1.items():\n",
    "    plt.plot(kgrid, abs(v-MLE_g), label='$h_k$ = '+k)\n",
    "plt.plot()\n",
    "plt.title('Absolute Error')\n",
    "plt.yscale('log')\n",
    "plt.legend(loc=6, bbox_to_anchor=(1, 0.5))\n",
    "plt.show()"
   ]
  },
  {
   "cell_type": "markdown",
   "metadata": {},
   "source": [
    "#### `eta` = 10$^{-4}$"
   ]
  },
  {
   "cell_type": "code",
   "execution_count": null,
   "metadata": {},
   "outputs": [],
   "source": [
    "eta = 10**(-4)\n",
    "MLE_g = siegerts.MLE_strength_function(gauss, kgrid)\n",
    "result_hk_2 = {}\n",
    "for hk in [10**(-n) for n in [2, 3, 4, 5]]:\n",
    "    print(hk)\n",
    "    result_hk_2[str(hk)] = siegerts.exact_strength_function_OTF(gauss, kgrid, hk=hk, tol=tol, eta=eta)"
   ]
  },
  {
   "cell_type": "code",
   "execution_count": null,
   "metadata": {},
   "outputs": [],
   "source": [
    "plt.plot(kgrid, MLE_g, label=\"MLE\", lw=5, color='k')\n",
    "for k, v in result_hk_2.items():\n",
    "    plt.plot(kgrid, v, label='$h_k$ = '+k)\n",
    "plt.plot()\n",
    "plt.ylim(0.0, 0.008)\n",
    "plt.legend(loc=6, bbox_to_anchor=(1, 0.5))\n",
    "plt.show()"
   ]
  },
  {
   "cell_type": "code",
   "execution_count": null,
   "metadata": {},
   "outputs": [],
   "source": [
    "for k, v in result_hk_2.items():\n",
    "    plt.plot(kgrid, abs(v-MLE_g)/MLE_g, label='$h_k$ = '+k)\n",
    "plt.plot()\n",
    "plt.title('Relative error')\n",
    "plt.yscale('log')\n",
    "plt.legend(loc=6, bbox_to_anchor=(1, 0.5))\n",
    "plt.show()"
   ]
  },
  {
   "cell_type": "code",
   "execution_count": null,
   "metadata": {},
   "outputs": [],
   "source": [
    "for k, v in result_hk_2.items():\n",
    "    plt.plot(kgrid, abs(v-MLE_g), label='$h_k$ = '+k)\n",
    "plt.plot()\n",
    "plt.title('Absolute Error')\n",
    "plt.yscale('log')\n",
    "plt.legend(loc=6, bbox_to_anchor=(1, 0.5))\n",
    "plt.show()"
   ]
  },
  {
   "cell_type": "markdown",
   "metadata": {},
   "source": [
    "### Convergence with respect to `tol`\n",
    "\n",
    "The results converge as tol is decreased, for a given set of `hk` and `eta`. At some point, it is not efficient to decrease the tolerence to get more converged results (the gain in precision being rather small for the extra cost)."
   ]
  },
  {
   "cell_type": "code",
   "execution_count": null,
   "metadata": {},
   "outputs": [],
   "source": [
    "hk = 10**(-4)\n",
    "eta = 10**(-3)\n",
    "MLE_g = siegerts.MLE_strength_function(gauss, kgrid)\n",
    "result_tol_1 = {}\n",
    "for tol in [10**(-n) for n in [2, 3, 4, 5, 6, 7]]:\n",
    "    print(tol)\n",
    "    result_tol_1[str(tol)] = siegerts.exact_strength_function_OTF(gauss, kgrid, hk=hk, tol=tol, eta=eta)"
   ]
  },
  {
   "cell_type": "code",
   "execution_count": null,
   "metadata": {},
   "outputs": [],
   "source": [
    "plt.plot(kgrid, MLE_g, label=\"MLE\", lw=5, color='k')\n",
    "for k, v in result_tol_1.items():\n",
    "    plt.plot(kgrid, v, label='tol = '+k)\n",
    "plt.plot()\n",
    "plt.ylim(0.0, 0.008)\n",
    "plt.legend(loc=6, bbox_to_anchor=(1, 0.5))\n",
    "plt.show()"
   ]
  },
  {
   "cell_type": "code",
   "execution_count": null,
   "metadata": {},
   "outputs": [],
   "source": [
    "for k, v in result_tol_1.items():\n",
    "    plt.plot(kgrid, abs(v-MLE_g)/MLE_g, label='tol = '+k)\n",
    "plt.plot()\n",
    "plt.title('Relative error')\n",
    "plt.yscale('log')\n",
    "plt.legend(loc=6, bbox_to_anchor=(1, 0.5))\n",
    "plt.show()"
   ]
  },
  {
   "cell_type": "code",
   "execution_count": null,
   "metadata": {},
   "outputs": [],
   "source": [
    "for k, v in result_tol_1.items():\n",
    "    plt.plot(kgrid, abs(v-MLE_g), label='tol = '+k)\n",
    "plt.plot()\n",
    "plt.title('Absolute Error')\n",
    "plt.yscale('log')\n",
    "plt.legend(loc=6, bbox_to_anchor=(1, 0.5))\n",
    "plt.show()"
   ]
  },
  {
   "cell_type": "markdown",
   "metadata": {},
   "source": [
    "### Convergence with respect to `eta`\n",
    "\n",
    "For a given `hk`, there is an optimal `eta`, which is the same as the one experienced using the other scheme: around 10 times the value of `hk`."
   ]
  },
  {
   "cell_type": "code",
   "execution_count": null,
   "metadata": {},
   "outputs": [],
   "source": [
    "hk = 10**(-4)\n",
    "tol = 10**(-4)\n",
    "MLE_g = siegerts.MLE_strength_function(gauss, kgrid)\n",
    "result_eta_1 = {}\n",
    "for eta in [10**(-n) for n in [2, 3, 4, 5, 6]]:\n",
    "    print(eta)\n",
    "    result_eta_1[str(eta)] = siegerts.exact_strength_function_OTF(gauss, kgrid, hk=hk, tol=tol, eta=eta)"
   ]
  },
  {
   "cell_type": "code",
   "execution_count": null,
   "metadata": {},
   "outputs": [],
   "source": [
    "plt.plot(kgrid, MLE_g, label=\"MLE\", lw=5, color='k')\n",
    "for k, v in result_eta_1.items():\n",
    "    plt.plot(kgrid, v, label='eta = '+k)\n",
    "plt.plot()\n",
    "plt.ylim(0.0, 0.008)\n",
    "plt.legend(loc=6, bbox_to_anchor=(1, 0.5))\n",
    "plt.show()"
   ]
  },
  {
   "cell_type": "code",
   "execution_count": null,
   "metadata": {},
   "outputs": [],
   "source": [
    "for k, v in result_eta_1.items():\n",
    "    plt.plot(kgrid, abs(v-MLE_g)/MLE_g, label='eta = '+k)\n",
    "plt.plot()\n",
    "plt.title('Relative error')\n",
    "plt.yscale('log')\n",
    "plt.legend(loc=6, bbox_to_anchor=(1, 0.5))\n",
    "plt.show()"
   ]
  },
  {
   "cell_type": "code",
   "execution_count": null,
   "metadata": {},
   "outputs": [],
   "source": [
    "for k, v in result_eta_1.items():\n",
    "    plt.plot(kgrid, abs(v-MLE_g), label='eta = '+k)\n",
    "plt.plot()\n",
    "plt.title('Absolute Error')\n",
    "plt.yscale('log')\n",
    "plt.legend(loc=6, bbox_to_anchor=(1, 0.5))\n",
    "plt.show()"
   ]
  }
 ],
 "metadata": {
  "kernelspec": {
   "display_name": "Python 3",
   "language": "python",
   "name": "python3"
  },
  "language_info": {
   "codemirror_mode": {
    "name": "ipython",
    "version": 3
   },
   "file_extension": ".py",
   "mimetype": "text/x-python",
   "name": "python",
   "nbconvert_exporter": "python",
   "pygments_lexer": "ipython3",
   "version": "3.6.3"
  }
 },
 "nbformat": 4,
 "nbformat_minor": 2
}
