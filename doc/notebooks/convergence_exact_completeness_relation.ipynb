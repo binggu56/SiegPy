{
 "cells": [
  {
   "cell_type": "markdown",
   "metadata": {},
   "source": [
    "# Convergence of the exact completeness relation\n",
    "\n",
    "This notebook presents the convergence of the exact completeness relation with respect to the densification of the continuum states in the exact basis set."
   ]
  },
  {
   "cell_type": "markdown",
   "metadata": {},
   "source": [
    "#### Import useful modules and classes."
   ]
  },
  {
   "cell_type": "code",
   "execution_count": null,
   "metadata": {},
   "outputs": [],
   "source": [
    "# Make the notebook aware of some of the SiegPy module classes\n",
    "from siegpy import SWPBasisSet, Rectangular\n",
    "# Other imports\n",
    "import numpy as np\n",
    "import matplotlib.pyplot as plt"
   ]
  },
  {
   "cell_type": "markdown",
   "metadata": {},
   "source": [
    "## First, read a data file containing a lot of Siegert states\n",
    "\n",
    "This allows the creation of a large basis set without using the time-consuming *find_siegert_states* method."
   ]
  },
  {
   "cell_type": "code",
   "execution_count": null,
   "metadata": {},
   "outputs": [],
   "source": [
    "siegerts = SWPBasisSet.from_file('siegerts.dat')\n",
    "pot = siegerts[0].potential\n",
    "l = pot.width"
   ]
  },
  {
   "cell_type": "markdown",
   "metadata": {},
   "source": [
    "## Define the parameters of the grids of continuum states\n",
    "\n",
    "The grid depends on the grid step *h_k* and the maximal wavenumber *k_max*. We will test the convergence of the exact completeness relation as *h_k* is decreased for a given value of *k_max*"
   ]
  },
  {
   "cell_type": "code",
   "execution_count": null,
   "metadata": {},
   "outputs": [],
   "source": [
    "# Mutliple h_k\n",
    "all_h_k = [1, 0.5, 0.1, 0.05, 0.025, 0.01, 0.001]\n",
    "k_max = 10  # Maximal wavenumber"
   ]
  },
  {
   "cell_type": "markdown",
   "metadata": {},
   "source": [
    "## Define test functions to evaluate the completeness relation.\n",
    "\n",
    "The completeness relation is evaluated using a test function $g$. For the MLE of the CR to hold, the test function must lie in region $II$ (inside the potential, where $|x| \\leq l/2$). The case of a Gaussian and a rectangular test function is studied."
   ]
  },
  {
   "cell_type": "code",
   "execution_count": null,
   "metadata": {},
   "outputs": [],
   "source": [
    "x_c = 0.0  # center of the test functions\n",
    "a = l/8.  # width of the rectangular function\n",
    "sigma = l/20.  # width of the Gaussian\n",
    "test_rect = Rectangular.from_width_and_center(a, x_c)  # Rectangular test function"
   ]
  },
  {
   "cell_type": "markdown",
   "metadata": {},
   "source": [
    "## Evaluate the convergence of the exact completeness relation for each basis set"
   ]
  },
  {
   "cell_type": "code",
   "execution_count": null,
   "metadata": {},
   "outputs": [],
   "source": [
    "CR_conv_exacts = [siegerts.exact_completeness_convergence(test_rect, hk=h_k, kmax=k_max) \\\n",
    "                  for h_k in all_h_k]    "
   ]
  },
  {
   "cell_type": "markdown",
   "metadata": {},
   "source": [
    "## Plot the results\n",
    "\n",
    "It seems that it is not necessary to get a very dense continuum states basis set for the evaluation of the completeness relation to be converged with respect to *h_k*."
   ]
  },
  {
   "cell_type": "code",
   "execution_count": null,
   "metadata": {},
   "outputs": [],
   "source": [
    "colors = ['#d73027','#f46d43','#fdae61','#fee08b','#a6d96a','#66bd63','#1a9850']\n",
    "i = -1\n",
    "for k, CR in CR_conv_exacts:\n",
    "    i += 1\n",
    "    plt.plot(k, CR, color=colors[i], label='h_k = '+str(all_h_k[i]))\n",
    "plt.xlabel('$k$')\n",
    "plt.ylabel('$CR$')\n",
    "plt.title\n",
    "plt.ylim(0.70, 1.0)\n",
    "plt.legend(loc=6, bbox_to_anchor=(1, 0.5))\n",
    "plt.show()"
   ]
  },
  {
   "cell_type": "markdown",
   "metadata": {},
   "source": [
    "## Absolute error"
   ]
  },
  {
   "cell_type": "code",
   "execution_count": null,
   "metadata": {},
   "outputs": [],
   "source": [
    "k_grid_ref, ref = CR_conv_exacts[-1]\n",
    "h_k_ref = k_grid_ref[2] - k_grid_ref[1]\n",
    "i = -1\n",
    "for k_grid, CR in CR_conv_exacts[:-1]:\n",
    "    i += 1\n",
    "    h_k = k_grid[2] - k_grid[1]\n",
    "    i_same = [int(h_k/h_k_ref)*i for i in range(0, len(k_grid))]\n",
    "    #print(i_same)\n",
    "    new_ref = ref[i_same]\n",
    "    plt.plot(k_grid, np.abs(CR-new_ref), color=colors[i], label='h_k = '+str(all_h_k[i]))\n",
    "plt.xlabel('$k$')\n",
    "plt.ylabel('$|CR - CR_{ref}|$')\n",
    "plt.yscale('log')\n",
    "plt.title('Absolute error')\n",
    "plt.legend(loc=6, bbox_to_anchor=(1, 0.5))\n",
    "plt.show()"
   ]
  },
  {
   "cell_type": "markdown",
   "metadata": {},
   "source": [
    "## Relative error"
   ]
  },
  {
   "cell_type": "code",
   "execution_count": null,
   "metadata": {},
   "outputs": [],
   "source": [
    "k_grid_ref, ref = CR_conv_exacts[-1]\n",
    "h_k_ref = k_grid_ref[2] - k_grid_ref[1]\n",
    "i = -1\n",
    "for k_grid, CR in CR_conv_exacts[:-1]:\n",
    "    i += 1\n",
    "    h_k = k_grid[2] - k_grid[1]\n",
    "    i_same = [int(h_k/h_k_ref)*i for i in range(0, len(k_grid))]\n",
    "    #print(i_same)\n",
    "    new_ref = ref[i_same]\n",
    "    plt.plot(k_grid, np.abs((CR-new_ref)/new_ref), color=colors[i], label='h_k = '+str(all_h_k[i]))\n",
    "plt.xlabel('$k$')\n",
    "plt.ylabel('$|(CR - CR_{ref}) / CR_{ref}|$')\n",
    "plt.yscale('log')\n",
    "plt.title('Relative error')\n",
    "plt.legend(loc=6, bbox_to_anchor=(1, 0.5))\n",
    "plt.show()"
   ]
  }
 ],
 "metadata": {
  "kernelspec": {
   "display_name": "Python 3",
   "language": "python",
   "name": "python3"
  },
  "language_info": {
   "codemirror_mode": {
    "name": "ipython",
    "version": 3
   },
   "file_extension": ".py",
   "mimetype": "text/x-python",
   "name": "python",
   "nbconvert_exporter": "python",
   "pygments_lexer": "ipython3",
   "version": "3.6.3"
  }
 },
 "nbformat": 4,
 "nbformat_minor": 2
}
