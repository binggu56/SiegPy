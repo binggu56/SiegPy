{
 "cells": [
  {
   "cell_type": "markdown",
   "metadata": {},
   "source": [
    "# Convergence of the exact time propagation\n",
    "\n",
    "The goal of this notebook is to test the convergence of the exact time propagation with respect to the densification of the continuum states spectrum and the range of their wavenumbers (or energies). This allows to get a grasp on the default values you would use, depending on the desired accuracy. \n",
    "\n",
    "The main message of this notebook is the following: to make sure that your exact time propagation calculation is converged with respect to the continuum basis set you must follow the following steps:\n",
    "\n",
    "* Firstly, make sure that the completeness relation using your basis set is verified for the initial wavepacket. To that end, it is advised to use the smallest $k_{max}$ possible, so that the exact time propagation for $t = 0$ conveniently reproduces the initial wavepacket. At that point, is may not be interesting to use too small $h_k$ values.\n",
    "\n",
    "* Lastly, once you found a suiting value for $k_{max}$, make a convergence study with respect to $h_k$. To that end, you have to make sure that decreasing $h_k$ does not change the time propagation of the wavepacket for the maximal time you desire.\n",
    "\n",
    "For the second point, remember that the RAGE theorem tells you that the continuum states contributions to the time propagation of the wavepacket vanishes in the long time limit: it might not be interesting to look at what is happening for too long times, since using only the bound states to propagate the wavepacket should suffice, while converging the exact propagation might become time-consuming because too small values for $h_k$ are required."
   ]
  },
  {
   "cell_type": "markdown",
   "metadata": {},
   "source": [
    "**Import useful modules and classes.**"
   ]
  },
  {
   "cell_type": "code",
   "execution_count": null,
   "metadata": {},
   "outputs": [],
   "source": [
    "# Make the notebook aware of some of the SiegPy module classes\n",
    "from siegpy import SWPBasisSet, Gaussian, SWPotential\n",
    "# Other imports\n",
    "import numpy as np\n",
    "import matplotlib.pyplot as plt"
   ]
  },
  {
   "cell_type": "markdown",
   "metadata": {},
   "source": [
    "## Define the potential"
   ]
  },
  {
   "cell_type": "code",
   "execution_count": null,
   "metadata": {},
   "outputs": [],
   "source": [
    "l = 3.0\n",
    "V0 = 8.0\n",
    "xgrid = np.linspace(-l/2., l/2., 201)\n",
    "pot = SWPotential(l, V0, grid=xgrid)"
   ]
  },
  {
   "cell_type": "markdown",
   "metadata": {},
   "source": [
    "## Create multiple exact basis sets\n",
    "\n",
    "An exact basis set is made of bound and continuum states. While the bound states form a discrete spectrum that is easy to find, there is a continuum of states of real, positive energies. This continuum has to be discretized, and we will study how the parameters affecting this continuum of states affect the precision of the time propagation of a wavepacket.\n",
    "\n",
    "The parameters in question are the wavenumber grid step $h_k$ and the range of the grid $k_{max}$, *i.e.* the highest wavenumber of the state in the basis set. A set of exact basis sets is created to study the impact of both parameters.\n",
    "\n",
    "To make the calculations quicker, we only add the even continuum states to the exact basis sets. This implies that, in order to get physically relevant results, an even test function will have to be used."
   ]
  },
  {
   "cell_type": "code",
   "execution_count": null,
   "metadata": {},
   "outputs": [],
   "source": [
    "# Find the bound states of the potential.\n",
    "# They are found automatically, without specifying values for the \n",
    "# wavenumber grid of input guesses\n",
    "siegerts = SWPBasisSet.find_Siegert_states(pot, 0, 1, 0, grid=xgrid)\n",
    "bnds = siegerts.bounds"
   ]
  },
  {
   "cell_type": "code",
   "execution_count": null,
   "metadata": {},
   "outputs": [],
   "source": [
    "# Define multiple continuum states basis sets\n",
    "conts = []\n",
    "h_ks = [1, 0.5, 0.1, 0.05, 0.025, 0.01]\n",
    "k_maxs = [5, 10, 15, 20, 25, 30, 50]\n",
    "#h_ks = [1, 0.5, 0.1]\n",
    "#k_maxs = [5, 10, 15, 20]\n",
    "for h in h_ks:\n",
    "    for k in k_maxs:\n",
    "        print(\"h_k = {}, k_max = {}\".format(h, k))\n",
    "        # Use even_only=True to save computation time\n",
    "        conts.append(SWPBasisSet.find_continuum_states(pot, k, h, even_only=True, grid=xgrid))"
   ]
  },
  {
   "cell_type": "code",
   "execution_count": null,
   "metadata": {},
   "outputs": [],
   "source": [
    "# Define the exact basis sets made of bound and continuum states\n",
    "exacts = [cont + bnds for cont in conts]"
   ]
  },
  {
   "cell_type": "markdown",
   "metadata": {},
   "source": [
    "## Define the test function\n",
    "\n",
    "We chose to add only the even continuum states to the exact basis sets, we therefore need to use a centered test function for the results to have a physical meaning (*e.g.* to neglect the odd states contributions to the time propagation)."
   ]
  },
  {
   "cell_type": "code",
   "execution_count": null,
   "metadata": {},
   "outputs": [],
   "source": [
    "x_c = 0.0\n",
    "sigma = l/20.\n",
    "gauss = Gaussian(sigma, x_c, grid=xgrid)"
   ]
  },
  {
   "cell_type": "markdown",
   "metadata": {},
   "source": [
    "## Compute the time propagation for different times\n",
    "\n",
    "We finally compute the time propagation of the wavepacket using the different basis sets. To that end, we must define `time_grid` first."
   ]
  },
  {
   "cell_type": "code",
   "execution_count": null,
   "metadata": {},
   "outputs": [],
   "source": [
    "time_grid = [0.0, 0.25, 0.5, 1.0, 3.0]\n",
    "exact_tps = [exact.exact_propagation(gauss, time_grid) for exact in exacts]"
   ]
  },
  {
   "cell_type": "markdown",
   "metadata": {},
   "source": [
    "## Plot the convergence with respect to both parameters\n",
    "\n",
    "It is now possible to check the influence of both parameters separately. One important point to look for is the influence of the time parameter also: does the precision also vary with the time at which the propagation is evaluated?"
   ]
  },
  {
   "cell_type": "markdown",
   "metadata": {},
   "source": [
    "### Convergence with respect to $k_{max}$\n",
    "\n",
    "This is probably the easiest parameter to predict: by computing the convergence of the completeness relation using the initial wavepacket as test function, it is easy to see for which $k_{max}$ it is sufficient for the completeness relation to be fulfilled."
   ]
  },
  {
   "cell_type": "code",
   "execution_count": null,
   "metadata": {},
   "outputs": [],
   "source": [
    "exacts[-1].plot_completeness_convergence(gauss, MLE=False)"
   ]
  },
  {
   "cell_type": "markdown",
   "metadata": {},
   "source": [
    "This plot tells us that the time propagation must not change between two calculations using the same value for $h_k$ if $k_{max} \\gtrsim 15$.\n",
    "\n",
    "This is validated by the $t=0$ study, which is, by the way, just another way of experimenting the convergence of the exact completeness relation with respect to $k_{max}$, since the initial wavepacket is expected to be reproduced. \n",
    "\n",
    "This is what is presented below: once $k_{max}$ is high enough (here, above 20), the expression of the initial wavepacket is  converged **for a given h_k**. To reach a truly converged initial wavepacket, the wavenumber grid step must be decreased. For the lowest $h_k$, the $k_{max}$ does not change."
   ]
  },
  {
   "cell_type": "code",
   "execution_count": null,
   "metadata": {},
   "outputs": [],
   "source": [
    "i_t = 0 \n",
    "t = time_grid[i_t]\n",
    "for i_h, h in enumerate(h_ks):\n",
    "    for i_k, k in enumerate(k_maxs):\n",
    "        lab = \"h_k = {}, k_max = {}\".format(h, k)\n",
    "        i_b = i_h*len(k_maxs)+i_k\n",
    "        tp = np.abs(exact_tps[i_b][i_t])\n",
    "        plt.plot(xgrid, tp, label=lab)\n",
    "    plt.title(\"t = {}\".format(t))\n",
    "    plt.legend(loc=6, bbox_to_anchor=(1, 0.5))\n",
    "    plt.show()"
   ]
  },
  {
   "cell_type": "markdown",
   "metadata": {},
   "source": [
    "#### Absolute Errors \n",
    "\n",
    "What we just presented is exactly what was found while studying the convergence of the exact completeness relation. Another way to look at the precision of the results is to directly look for the absolute errors, since the reference is the initial wavepacket."
   ]
  },
  {
   "cell_type": "code",
   "execution_count": null,
   "metadata": {},
   "outputs": [],
   "source": [
    "i_t = 0 \n",
    "t = time_grid[i_t]\n",
    "ref = gauss.values\n",
    "for i_h, h in enumerate(h_ks):\n",
    "    for i_k, k in enumerate(k_maxs):\n",
    "        lab = \"h_k = {}, k_max = {}\".format(h, k)\n",
    "        i_b = i_h*len(k_maxs)+i_k\n",
    "        tp = np.abs(exact_tps[i_b][i_t])\n",
    "        plt.plot(xgrid, np.abs(tp-ref), label=lab)\n",
    "    plt.yscale('log')\n",
    "    plt.title(\"t = {}\".format(t))\n",
    "    plt.legend(loc=6, bbox_to_anchor=(1, 0.5))\n",
    "    plt.show()"
   ]
  },
  {
   "cell_type": "markdown",
   "metadata": {},
   "source": [
    "For the largest values of $h_k$, there is a convergence of the absolute errors: increasing $k_{max}$ does not affect the quality of the results. Nonetheless, the level of the absolute error is quite high, above $10^{-2}$. When $h_k$ is decreased, then the basis set is denser, and the absolute errors do not superimpose in the log scale. However, the level of the absolute error is below $10^{-2}$ for each $k_{max} \\geq 15$ for the smallest $h_k$, and never reaches smaller values if $h_k$ is further decreased (for a given $k_{max}$). This means the convergence with respect to $h_k$ has been reached for this given $k_{max}$.\n",
    "\n",
    "We know that once $k_{max}$ is high enough, there is a convergence of the wavepacket expansion. Is this also true for larger times? This what is tested below."
   ]
  },
  {
   "cell_type": "markdown",
   "metadata": {},
   "source": [
    "#### Convergence with respect ot $k_{max}$ for large time\n",
    "\n",
    "Let us produce the same plots as earlier but for the maximal time:"
   ]
  },
  {
   "cell_type": "code",
   "execution_count": null,
   "metadata": {},
   "outputs": [],
   "source": [
    "i_t = -1 \n",
    "t = time_grid[i_t]\n",
    "for i_h, h in enumerate(h_ks):\n",
    "    for i_k, k in enumerate(k_maxs):\n",
    "        lab = \"h_k = {}, k_max = {}\".format(h, k)\n",
    "        i_b = i_h*len(k_maxs)+i_k\n",
    "        tp = np.abs(exact_tps[i_b][i_t])\n",
    "        plt.plot(xgrid, tp, label=lab)\n",
    "    plt.title(\"t = {}\".format(t))\n",
    "    plt.legend(loc=6, bbox_to_anchor=(1, 0.5))\n",
    "    plt.show()"
   ]
  },
  {
   "cell_type": "markdown",
   "metadata": {},
   "source": [
    "Again, a convergence as $k_{max}$ increases is observed. This is particularly seen for the largest values of $h_k$, where it requires $k_{max} \\geq 15$ to reach a convergence. \n",
    "\n",
    "However, the situation is not that clear for the lowest values of $h_k$: the propagated wavepacket obtained with $k_{max} = 5$ is already really close to the converged result. Why is that?\n",
    "\n",
    "This is simply due to the RAGE theorem introduced in the `time_propagation` notebook: as long as the time increases, the continuum states contribution to the propagation of the wavepacket tend to zero. For $t = 3.0$, the continuum contribution to the time propagation is very small, and this explains the small importance of the $k_{max}$ value.\n",
    "\n",
    "This means that once the $k_{max}$ value is high enough to reproduce the initial wavepacket, then it will not impact the time propagation of the wavepacket, even for large time. \n",
    "\n",
    "However, you may also note that the shape of the wavepacket at convergence (*i.e.* for the highest value of $k_{max}$) greatly depends on $h_k$. However, once $h_k$ is small enough (*e.g.* below 0.05), the shape of the converged wavepacket remains almost the same. This means that this parameter is very important. It will be the topic of the next section of the notebook."
   ]
  },
  {
   "cell_type": "markdown",
   "metadata": {},
   "source": [
    "#### Absolute Errors \n",
    "\n",
    "Before moving to the influence of $h_k$, let us plot the absolute errors, as we did for the $t = 0$ case. This time, we lack an analytical formula for the exact time propagation (remember that the initial wavepacket was the refrence for $t = 0$). Therefore, the best reference is obviously the propagated wavapacket obtained using the largest $k_{max}$ and the smallest $h_k$ value."
   ]
  },
  {
   "cell_type": "code",
   "execution_count": null,
   "metadata": {},
   "outputs": [],
   "source": [
    "# Choose the last time of time_grid\n",
    "i_t = -1\n",
    "t = time_grid[i_t]\n",
    "# The reference is the propagated wavepacket obtained with \n",
    "# the highest k_max for the lowest h_k\n",
    "i_b_ref = -1\n",
    "ref = np.abs(exact_tps[i_b_ref][i_t])\n",
    "# Loop to make one plot for each h_k\n",
    "for i_h, h in enumerate(h_ks):\n",
    "    for i_k, k in enumerate(k_maxs):\n",
    "        lab = \"h_k = {}, k_max = {}\".format(h, k)\n",
    "        i_b = i_h*len(k_maxs)+i_k\n",
    "        tp = np.abs(exact_tps[i_b][i_t])\n",
    "        if i_b != i_b_ref:\n",
    "            plt.plot(xgrid, np.abs(tp-ref), label=lab)\n",
    "    plt.yscale('log')\n",
    "    plt.title(\"t = {}\".format(t))\n",
    "    plt.legend(loc=6, bbox_to_anchor=(1, 0.5))\n",
    "    plt.show()"
   ]
  },
  {
   "cell_type": "markdown",
   "metadata": {},
   "source": [
    "As suspected, the absolute errors are high (around $10^{-1}$) for the largest $h_k$ values, even for the largest $k_{max}$. Decreasing $h_k$ leads to lower absolute errors, and finally, when $h_k$ is small enough, the abolute error reaches a minimum, that cannot be decreased by reducing $h_k$. \n",
    "\n",
    "As you can see, the converged propagated wavepacket for $k_{max} = 5$ is obtained with for $h_k = 0.05$, and the absolute error is already below $10^{-2}$ (this low value is due to the RAGE theorem, stating that the continuum states contributions to the time propagation tend to 0 for long times; remember the absolute error was above $10^{-1}$ for $t = 0$). \n",
    "\n",
    "However, the converged propagated wavepacket for $k_{max} = 15$ is reached for $h_k = 0.025$. As a comparison, this convergence happened for $h_k \\lesssim 0.5$ for $t = 0$. This means that the number of continuum states required to reach a convergence for time $t = 3$ is an order of magnitude higher, and this number increases with $t$. \n",
    "\n",
    "The reason for that is the exponential term in the integrand of the exact time propagation: \n",
    "\n",
    "$f_{exact}(x, t) = \\sum_b \\left\\langle \\varphi_b | f \\right\\rangle \\varphi_b(x) e^{- i E_b t} + \n",
    "                   \\sum_{p=\\pm} \\int_0^\\infty \\text{d} k \\left\\langle \\varphi_p | f \\right\\rangle \\varphi_p(x) e^{- i E(k) t}$\n",
    "\n",
    "The integrand being more oscillatory as t increases, a finer wavenumber grid is therefore required. The Siegert states expansions avoids such an integration, therefore making it as simple to study the long and the short time limit, while reducing drastically the number of states to use. However, the correct expansiopn to use is still to be found, even though we saw in another notebook that there is a transition between the MLE expansion and the Berggren expansion. Also, this expanion is only valid in region $II$, inside the potential well.\n",
    "\n",
    "Coming back to the exact time propagation, let us conclude that every time you increase the maximal value in the time grid for the propagation of a wavepacket, it is advised to make sure that the value of $h_k$ is low enough (while keeping the same $k_{max}$ you were happy with for the initial time $t = 0$). Still, remember that the continuum contributions to the time propagation tend to zero as the time increases: it might be computationally prohibitive to reduce $h_k$ at some point, while using the bound states only would be sufficient to get accurate results."
   ]
  },
  {
   "cell_type": "markdown",
   "metadata": {},
   "source": [
    "### Convergence with respect to $h_k$\n",
    "\n",
    "This part of the notebook does not really give new messages, but it may help in giving a clearer view on the influence of $h_k$ on the exact time propagation.\n",
    "\n",
    "To that end, the wavapacket for different times is plotted while varying $h_k$ and keeping $k_{max}$ fixed (here, it is chosen to be the highest one). "
   ]
  },
  {
   "cell_type": "code",
   "execution_count": null,
   "metadata": {},
   "outputs": [],
   "source": [
    "# Choose the highest k_max\n",
    "i_k = -1\n",
    "k = k_maxs[i_k]\n",
    "# Loop over the time to plot the convergence as a function of h_k\n",
    "for i_t, t in enumerate(time_grid):\n",
    "    for i_h, h in enumerate(h_ks):\n",
    "        lab = \"h_k = {}, k_max = {}\".format(h, k)\n",
    "        if i_k == -1:\n",
    "            i_k = len(k_maxs) - 1\n",
    "        i_b = i_h*len(k_maxs) + i_k\n",
    "        tp = np.abs(exact_tps[i_b][i_t])\n",
    "        plt.plot(xgrid, tp, label=lab)\n",
    "    plt.title(\"t = {}\".format(t))\n",
    "    plt.legend(loc=6, bbox_to_anchor=(1, 0.5))\n",
    "    plt.show()"
   ]
  },
  {
   "cell_type": "markdown",
   "metadata": {},
   "source": [
    "As was seen earlier, it requires a smallest $h_k$ to reach convergence as the time increases: while $h_k = 0.5$ is small enough to get converged results for $t=0$, it is not the case anymore for $t = 0.25$. It is even required to use $h_k = 0.05$ for $t = 3$."
   ]
  },
  {
   "cell_type": "markdown",
   "metadata": {},
   "source": [
    "#### Absolute errors\n",
    "\n",
    "We could also look at the absolute errors. For each time, the reference is the propagated wavepacket obtained using the lowest $h_k$ for the given $k_{max}$."
   ]
  },
  {
   "cell_type": "code",
   "execution_count": null,
   "metadata": {},
   "outputs": [],
   "source": [
    "# Choose the highest k_max\n",
    "i_k = -1\n",
    "k = k_maxs[i_k]\n",
    "# Loop over the time to plot the convergence as a function of h_k\n",
    "for i_t, t in enumerate(time_grid):\n",
    "    # Define the reference (the highest h_k for the given k_max)\n",
    "    if i_k == -1:\n",
    "        i_k = len(k_maxs) -1\n",
    "    i_b_ref = (len(h_ks)-1) * len(k_maxs) + i_k\n",
    "    ref = np.abs(exact_tps[i_b_ref][i_t])\n",
    "    # Loop over h_k to plot a new line\n",
    "    for i_h, h in enumerate(h_ks):\n",
    "        lab = \"h_k = {}, k_max = {}\".format(h, k)\n",
    "        i_b = i_h*len(k_maxs)+i_k\n",
    "        tp = np.abs(exact_tps[i_b][i_t])\n",
    "        # Do not plot the obvious difference between the reference \n",
    "        # and itself\n",
    "        if i_b != i_b_ref:\n",
    "            plt.plot(xgrid, np.abs(tp-ref), label=lab)\n",
    "    plt.yscale('log')\n",
    "    plt.title(\"t = {}\".format(t))\n",
    "    plt.legend(loc=6, bbox_to_anchor=(1, 0.5))\n",
    "    plt.show()"
   ]
  }
 ],
 "metadata": {
  "kernelspec": {
   "display_name": "Python 3",
   "language": "python",
   "name": "python3"
  },
  "language_info": {
   "codemirror_mode": {
    "name": "ipython",
    "version": 3
   },
   "file_extension": ".py",
   "mimetype": "text/x-python",
   "name": "python",
   "nbconvert_exporter": "python",
   "pygments_lexer": "ipython3",
   "version": "3.6.3"
  }
 },
 "nbformat": 4,
 "nbformat_minor": 2
}
