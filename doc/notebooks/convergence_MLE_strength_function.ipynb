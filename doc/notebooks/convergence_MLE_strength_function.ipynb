{
 "cells": [
  {
   "cell_type": "markdown",
   "metadata": {},
   "source": [
    "# Strength function: convergence of the Mittag-Leffler expansion\n",
    "\n",
    "We saw in the `strength_function.ipynb` notebook that the strength function (SF) can be approximated by using a **Mittag-Leffler expansion** (MLE) of the Green's function. In this notebook, we'll see how the MLE of the SF converges to the exact result when the number of resonant couples used is increased."
   ]
  },
  {
   "cell_type": "markdown",
   "metadata": {},
   "source": [
    "## Initialization\n",
    "\n",
    "This part very similar to the previous notebook, but don't forget to run the cells before jumping to the next section!"
   ]
  },
  {
   "cell_type": "markdown",
   "metadata": {},
   "source": [
    "### Import some modules and classes"
   ]
  },
  {
   "cell_type": "code",
   "execution_count": null,
   "metadata": {},
   "outputs": [],
   "source": [
    "# Make the notebook aware of some of the SiegPy module classes\n",
    "from siegpy import SWPBasisSet, Rectangular, Gaussian, SWPotential\n",
    "# Other imports\n",
    "import numpy as np\n",
    "import matplotlib.pyplot as plt"
   ]
  },
  {
   "cell_type": "markdown",
   "metadata": {},
   "source": [
    "### Create a basis-set made of Siegert states only"
   ]
  },
  {
   "cell_type": "code",
   "execution_count": null,
   "metadata": {},
   "outputs": [],
   "source": [
    "siegerts = SWPBasisSet.from_file(\"siegerts.dat\", nres=25)"
   ]
  },
  {
   "cell_type": "markdown",
   "metadata": {},
   "source": [
    "### Define test functions to evaluate the strength function"
   ]
  },
  {
   "cell_type": "code",
   "execution_count": null,
   "metadata": {},
   "outputs": [],
   "source": [
    "l = siegerts.potential.width  # width of the potential\n",
    "x_c = 0.0  # Center of the test functions\n",
    "a = l/2  # Width of the rectangular function\n",
    "sigma = l/20  # Width of the Gaussian\n",
    "test_gauss = Gaussian(sigma, x_c)  # Gaussian test function\n",
    "test_rect = Rectangular.from_width_and_center(a, x_c)  # Rectangular test function"
   ]
  },
  {
   "cell_type": "markdown",
   "metadata": {},
   "source": [
    "### Create the grid of wavenumbers where the strength function is evaluated\n",
    "\n",
    "It is not mandatory to keep the same grid as for the continuum states, and it is strongly advised to decrease this number as much as possible to save computation time, since an integration over all continuum states is performed for each point in this grid, that only defines the grid used for plotting."
   ]
  },
  {
   "cell_type": "code",
   "execution_count": null,
   "metadata": {},
   "outputs": [],
   "source": [
    "h_k = 0.05  # Grid-step for plotting\n",
    "k_max = 10  # Maximal wavenumber for plotting\n",
    "kgrid = np.arange(h_k, k_max, h_k)"
   ]
  },
  {
   "cell_type": "markdown",
   "metadata": {},
   "source": [
    "## Tests of convergence of the MLE of the strength function\n",
    "\n",
    "We present the evolution of the MLE of the strength function as a function of the number of resonant couples included in the approximated Green's function. \n",
    "\n",
    "We will see that with only a few resonant couples considered, it is possible to get a correct evaluation of the strength function on a rather large range of wavenumber\n",
    "\n",
    "### Case 1: Gaussian test function\n",
    "\n",
    "The first step corresponds in evaluating the strength function for basis sets of increasing size. To that end, the contribution of all the bound and anti-bound states is evaluated separately (stored in `b_a_MLE_g`), while the strength function associated to each resonant couple is stored in the list `r_MLE_g`."
   ]
  },
  {
   "cell_type": "code",
   "execution_count": null,
   "metadata": {},
   "outputs": [],
   "source": [
    "# Create basis sets with bound and antibound states, with resonant states\n",
    "# and with anti-resonant states.\n",
    "bnds_abnds = siegerts.bounds + siegerts.antibounds\n",
    "res = siegerts.resonants\n",
    "ares = siegerts.antiresonants\n",
    "\n",
    "# Contribution of the bound and anti-bound states to the MLE of the SF\n",
    "b_a_MLE_g = bnds_abnds.MLE_strength_function(test_gauss, kgrid)\n",
    "# Contribution of each resonant couple to the MLE of the SF\n",
    "r_MLE_g   = [SWPBasisSet(states=[res[i], ares[i]]).MLE_strength_function(test_gauss, kgrid) for i in range(len(res))]"
   ]
  },
  {
   "cell_type": "markdown",
   "metadata": {},
   "source": [
    "After some matplotlib manipulation, you get the following plot:"
   ]
  },
  {
   "cell_type": "code",
   "execution_count": null,
   "metadata": {},
   "outputs": [],
   "source": [
    "#Plot the reference, with all siegert states\n",
    "plt.plot(kgrid, b_a_MLE_g + sum(r_MLE_g), color='k', lw=5,\n",
    "         label='$N_{res}$ = '+str(len(res)))\n",
    "#Plot the first: bound states contribution only\n",
    "colors = ['#0c2c84', '#1d91c0', '#7fcdbb', '#c7e9b4']\n",
    "plt.plot(kgrid, b_a_MLE_g, color=colors[0], label='$N_{res}$ = 0')\n",
    "#Plot the rest\n",
    "for i in [2, 4, 6]:\n",
    "    plt.plot(kgrid, b_a_MLE_g + sum(r_MLE_g[:i]),\n",
    "             color=colors[i//2], label='$N_{res}$ = '+str(i))\n",
    "plt.xlabel(\"$k$\")\n",
    "plt.ylabel(\"$R(k)$\")\n",
    "plt.title('Gaussian test function')\n",
    "plt.legend()\n",
    "plt.show()"
   ]
  },
  {
   "cell_type": "markdown",
   "metadata": {},
   "source": [
    "As you can see, using a handful of resonant couples leads to almost converged result over a rather large range of wavenumbers. Remember that the exact result would require a rather dense basis set of continuum states to reach the same convergence, while the physical information on the resonances would be absent. The approximation of the Green's function by Siegert states is very promising."
   ]
  },
  {
   "cell_type": "markdown",
   "metadata": {},
   "source": [
    "### Case 2: rectangular test function\n",
    "\n",
    "You can easily repeat that same study for a rectangular test function:"
   ]
  },
  {
   "cell_type": "code",
   "execution_count": null,
   "metadata": {},
   "outputs": [],
   "source": [
    "# Contribution of the bound and anti-bound states to the MLE of the SF\n",
    "b_a_MLE_r = bnds_abnds.MLE_strength_function(test_rect, kgrid)\n",
    "# Contribution of each resonant couples to the MLE of the SF\n",
    "r_MLE_r   = [SWPBasisSet([res[i], ares[i]]).MLE_strength_function(test_rect, kgrid) for i in range(len(res))]"
   ]
  },
  {
   "cell_type": "code",
   "execution_count": null,
   "metadata": {},
   "outputs": [],
   "source": [
    "#Plot the reference, with all siegert states\n",
    "plt.plot(kgrid, b_a_MLE_r + sum(r_MLE_r), color='k', lw=5,\n",
    "         label='$N_{res}$ = '+str(len(res)))\n",
    "#Plot the first: bound states contribution only\n",
    "colors = ['#0c2c84', '#1d91c0', '#41b6c4', '#7fcdbb', '#c7e9b4']\n",
    "plt.plot(kgrid, b_a_MLE_r, color=colors[0], label='$N_{res}$ = 0')\n",
    "#Plot the rest\n",
    "for i in [2, 4, 6, 8]:\n",
    "    plt.plot(kgrid, b_a_MLE_r + sum(r_MLE_r[:i]),\n",
    "             color=colors[i//2], label='$N_{res}$ = '+str(2*i))\n",
    "plt.xlabel(\"$k$\")\n",
    "plt.ylabel(\"$R(k)$\")\n",
    "plt.title('Rectangular test function')\n",
    "plt.legend()\n",
    "plt.show()"
   ]
  },
  {
   "cell_type": "markdown",
   "metadata": {},
   "source": [
    "Note that, even if the strength function erroneously reaches negative values, the position and the shape of the first peaks are still very well reproduced by only a few resonant couples."
   ]
  }
 ],
 "metadata": {
  "kernelspec": {
   "display_name": "Python 3",
   "language": "python",
   "name": "python3"
  },
  "language_info": {
   "codemirror_mode": {
    "name": "ipython",
    "version": 3
   },
   "file_extension": ".py",
   "mimetype": "text/x-python",
   "name": "python",
   "nbconvert_exporter": "python",
   "pygments_lexer": "ipython3",
   "version": "3.6.3"
  }
 },
 "nbformat": 4,
 "nbformat_minor": 2
}
