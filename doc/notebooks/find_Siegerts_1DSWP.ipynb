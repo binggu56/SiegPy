{
 "cells": [
  {
   "cell_type": "markdown",
   "metadata": {},
   "source": [
    "# Find the Siegert and continuum states of a 1D Square-Well Potential case\n",
    "\n",
    "The goal of this tutorial is to present the basic objects of the SiegPy module that allows to find the Siegert states of a 1D Square-Well Potential (SWP)."
   ]
  },
  {
   "cell_type": "markdown",
   "metadata": {},
   "source": [
    "## Import some classes of the SiegPy module\n",
    "\n",
    "After the installation of the SiegPy module with `pip` (see the online documentation), you can import it as any other Python package. \n",
    "\n",
    "To begin with the tutorial, from `siegpy` we import:\n",
    "\n",
    "- the `SWPotential` class, to describe a 1D SWP,\n",
    "\n",
    "- the `SWPBasisSet` class, to represent a basis set made of the eigenstates of a 1D SWP,\n",
    "\n",
    "- the `SWPSiegert` and the `SWPContinuum` classes, to represent the two types of eigenstates of the 1D SWP, namely its Siegert states and its continuum states."
   ]
  },
  {
   "cell_type": "code",
   "execution_count": null,
   "metadata": {},
   "outputs": [],
   "source": [
    "from siegpy import SWPotential, SWPBasisSet, SWPSiegert, SWPContinuum\n",
    "import numpy as np  # We also import numpy"
   ]
  },
  {
   "cell_type": "markdown",
   "metadata": {},
   "source": [
    "## Define a 1D Square-Well Potential.\n",
    "\n",
    "A 1D SWP is caracterized by its width `l` and depth `V0`. For convenience, it is always centered on $x = 0$. A space grid may also be given, for the potential to be plotted."
   ]
  },
  {
   "cell_type": "code",
   "execution_count": null,
   "metadata": {},
   "outputs": [],
   "source": [
    "# Potential parameters\n",
    "V0 = 8. # Depth of the potential\n",
    "l  = 3. # Width of the potential\n",
    "\n",
    "# Space grid parameters\n",
    "npts = 401 # Number of points of the grid\n",
    "xmax = l   # Extension of the grid\n",
    "xgrid = np.linspace(-l, l, npts)\n",
    "\n",
    "# Define a 1D SW potential\n",
    "potential = SWPotential(l, V0, grid=xgrid)"
   ]
  },
  {
   "cell_type": "markdown",
   "metadata": {},
   "source": [
    "You can plot it, print it and check it is a SWPotential instance:"
   ]
  },
  {
   "cell_type": "code",
   "execution_count": null,
   "metadata": {},
   "outputs": [],
   "source": [
    "potential.plot()\n",
    "print(potential)\n",
    "print(isinstance(potential, SWPotential))"
   ]
  },
  {
   "cell_type": "markdown",
   "metadata": {},
   "source": [
    "## Find the Siegert states\n",
    "\n",
    "The search of the wavenumbers of the Siegert states is limited to a certain part of the complex wavenumber plane (here, the absolute value of the real part (resp. imaginary part) of the Siegert wavenumbers must not exceed `re_kmax` (resp. `im_kmax`).\n",
    "\n",
    "To find the wavenumbers, one has to define a grid of input-guess, made of complex wavenumbers. This grid is defined by a grid step on the real axis `re_hk` and an optional one on the imaginary axis `im_hk`. The search of the bound and anti bound states on the imaginary axis is carried out automatically (given that the number of states on this axis and the range over which they are to be found is defined by the depth and width of the potential).\n",
    "\n",
    "In the example below, `siegerts` is a basis set, and its elements are Siegert states. A Siegert state of the 1D SWP is an instance of the `SWPSiegert` class."
   ]
  },
  {
   "cell_type": "code",
   "execution_count": null,
   "metadata": {},
   "outputs": [],
   "source": [
    "# Look for Siegert states in the complex plane\n",
    "re_kmax = 10.\n",
    "im_kmax = 3.\n",
    "re_hk = 1.\n",
    "im_hk = 2.\n",
    "siegerts = SWPBasisSet.find_Siegert_states(potential, re_kmax, re_hk, im_kmax,\n",
    "                                           im_hk=im_hk, grid=xgrid)"
   ]
  },
  {
   "cell_type": "markdown",
   "metadata": {},
   "source": [
    "The basis set is a made of Siegert states and is a `SWPBasisSet` instance:"
   ]
  },
  {
   "cell_type": "code",
   "execution_count": null,
   "metadata": {},
   "outputs": [],
   "source": [
    "# siegerts is a SWPBasisSet instance\n",
    "assert isinstance(siegerts, SWPBasisSet)\n",
    "\n",
    "# Each state in the basis set is an instance of the SWPSiegert class\n",
    "assert all([isinstance(state, SWPSiegert) for state in siegerts])"
   ]
  },
  {
   "cell_type": "markdown",
   "metadata": {},
   "source": [
    "You can easily iterate over the states in the basis set:"
   ]
  },
  {
   "cell_type": "code",
   "execution_count": null,
   "metadata": {},
   "outputs": [],
   "source": [
    "print(\"Number of Siegert states in the basis set:\", len(siegerts))\n",
    "\n",
    "for i, state in enumerate(siegerts):\n",
    "    print(\"State n°{}: {}\".format(i+1, state))"
   ]
  },
  {
   "cell_type": "markdown",
   "metadata": {},
   "source": [
    "Note that the states are ordered by type (bound, then anti-bound, then resonant, and finally anti-resonant states), and that they are stored from the lowest to the highest energy for each type. You can easily create a basis set containing only a specific type of Siegert state:"
   ]
  },
  {
   "cell_type": "code",
   "execution_count": null,
   "metadata": {},
   "outputs": [],
   "source": [
    "bnds = siegerts.bounds\n",
    "assert isinstance(bnds, SWPBasisSet)\n",
    "len(bnds)"
   ]
  },
  {
   "cell_type": "code",
   "execution_count": null,
   "metadata": {},
   "outputs": [],
   "source": [
    "abnds = siegerts.antibounds\n",
    "len(abnds)"
   ]
  },
  {
   "cell_type": "code",
   "execution_count": null,
   "metadata": {},
   "outputs": [],
   "source": [
    "res = siegerts.resonants\n",
    "len(res)"
   ]
  },
  {
   "cell_type": "code",
   "execution_count": null,
   "metadata": {},
   "outputs": [],
   "source": [
    "ares = siegerts.antiresonants\n",
    "len(ares)"
   ]
  },
  {
   "cell_type": "markdown",
   "metadata": {},
   "source": [
    "This way, you can be sure that the total number of states correspond to the 20 Siegert states of the original basis set. You could also use the attributes `even` or `odd` to create a `SWPBasisSet` instance made of the Siegert states of a given parity."
   ]
  },
  {
   "cell_type": "markdown",
   "metadata": {},
   "source": [
    "## Plot the Siegert states and the basis sets\n",
    "\n",
    "**Three types of plot are provided for that purpose:**\n",
    "\n",
    "1. The first one allows to plot the wavefunctions of any indivual Siegert states.\n",
    "\n",
    "* Another one represent the wavefunctions of all the Siegert states in the basis set on one plot.\n",
    "\n",
    "* The third type plots of the wavenumbers or the energies of the states in the basis set."
   ]
  },
  {
   "cell_type": "markdown",
   "metadata": {},
   "source": [
    "### Wavefunction of a Siegert state \n",
    "\n",
    "Given that a grid was passed to the `find_Siegert_states` method, each Siegert state can be plotted with the `plot` method, just like the potential. You may also modify the range of the plot by specifying the optional arguments `xlim` and `ylim`."
   ]
  },
  {
   "cell_type": "code",
   "execution_count": null,
   "metadata": {},
   "outputs": [],
   "source": [
    "for state in siegerts:\n",
    "    # Note the use of the representaton of a Siegert state as title\n",
    "    state.plot(xlim=(-3*l/4., 3*l/4.), ylim=(-1, 1), title=repr(state))"
   ]
  },
  {
   "cell_type": "markdown",
   "metadata": {},
   "source": [
    "Note that the resonant and antiresonant states go by pair: the wavefunction of an antiresonant state correspond to the conjugate of the resonant wavefunction, and the same relation exists for their energies. The wavefunction of any Siegert state that is not bound diverges for infinite $x$."
   ]
  },
  {
   "cell_type": "markdown",
   "metadata": {},
   "source": [
    "### Plot all the wavefunctions of the basis set\n",
    "\n",
    "A `SWPBasisSet` instance has a `plot_wavefunctions` method to plot the wavefunctions of all the Siegert states in the basis set (except for the anti-bound states, for clarity). Each wavefunction is translated by the corresponding energy (or absolute value of the energy for resonant and anti-resonant states)."
   ]
  },
  {
   "cell_type": "code",
   "execution_count": null,
   "metadata": {},
   "outputs": [],
   "source": [
    "siegerts.plot_wavefunctions()"
   ]
  },
  {
   "cell_type": "markdown",
   "metadata": {},
   "source": [
    "As you can see, the wavefunctions of a pair of resonant and anti-resonant states have the same real part and an opposite imaginary part.\n",
    "\n",
    "The number of resonant states wavefunctions to plot may be defined by `nres`. You may use `file_save` to define where to save the plot (the available file formats depend on your [matplotlib backend](https://matplotlib.org/faq/usage_faq.html#what-is-a-backend))."
   ]
  },
  {
   "cell_type": "code",
   "execution_count": null,
   "metadata": {},
   "outputs": [],
   "source": [
    "siegerts.plot_wavefunctions(nres=2, file_save='wavefunctions_2_res.pdf')"
   ]
  },
  {
   "cell_type": "markdown",
   "metadata": {},
   "source": [
    "Note how the resonant couple is related to the bound states: the parity oscillates between even and odd for the bound states, and this order is kept for resonant states. Also note the number of antinodes that is increasing from bottom to top; in particular, the last bound state is even and has four antinodes inside the potential, while the first resonant couple is odd and exhibit five antinodes.\n",
    "\n",
    "Eventually, `xlim` and `ylim` are other optional parameters to set the plot range. If no resonant states are desired, then only the bound states are plotted"
   ]
  },
  {
   "cell_type": "code",
   "execution_count": null,
   "metadata": {},
   "outputs": [],
   "source": [
    "siegerts.plot_wavefunctions(nres=0, file_save='wavefunctions_no_res.pdf',\n",
    "                            ylim=(-V0-0.5, 0.5))"
   ]
  },
  {
   "cell_type": "markdown",
   "metadata": {},
   "source": [
    "### Plot the wavenumbers and energies of the basis set\n",
    "\n",
    "The wavenumber and energy plots can also be saved in a file by defining the optional argument `file_save`. Again, the range of the axis of the plot can be defined by `xlim` and `ylim`."
   ]
  },
  {
   "cell_type": "code",
   "execution_count": null,
   "metadata": {},
   "outputs": [],
   "source": [
    "siegerts.plot_wavenumbers(file_save=\"poles_wn.pdf\")"
   ]
  },
  {
   "cell_type": "code",
   "execution_count": null,
   "metadata": {},
   "outputs": [],
   "source": [
    "siegerts.plot_energies(xlim=(-V0, 20), ylim=(-7, 7), file_save=\"poles_en.pdf\")"
   ]
  },
  {
   "cell_type": "markdown",
   "metadata": {},
   "source": [
    "The four types of Siegert states are clearly visible:\n",
    "\n",
    "* the bound states have positive, purely imaginary wavenumbers (and therefore negative, purely real energies),\n",
    "\n",
    "* the anti-bound states have negative, purely imaginary wavenumbers (and therefore negative, purely real energies),\n",
    "\n",
    "* the wavenumber of a resonant state has a positive real part and a negative imaginary part (and therefore its energy has a positive real part and a negative imaginary part),\n",
    "\n",
    "* the wavenumber of an anti-resonant state has a negative real part and a negative imaginary part (and therefore its energy has a positive real part and a positive imaginary part),"
   ]
  },
  {
   "cell_type": "markdown",
   "metadata": {},
   "source": [
    "## Variation of the potential depth\n",
    "\n",
    "It is then easy to compare the Siegert states found for different SW potentials. The example given here shows that a couple of resonant/anti-resonant states collapses into two anti-bound states as the depth of the potential is increased."
   ]
  },
  {
   "cell_type": "code",
   "execution_count": null,
   "metadata": {},
   "outputs": [],
   "source": [
    "# Define a some potential depths\n",
    "depths = np.arange(4.65, 4.751, 0.01) # Multiple potential depths\n",
    "l = 3.                                # One potential width\n",
    "\n",
    "# Parameters for the search of Siegert states in the complex \n",
    "# wavenumber plane\n",
    "re_kmax = 10.\n",
    "im_kmax = 3.\n",
    "re_hk = 1.\n",
    "im_hk = 2.\n",
    "\n",
    "# Loop over the depths to create multiple potentials and \n",
    "# find their Siegert states\n",
    "basis_sets = []\n",
    "for V0 in depths:\n",
    "    pot = SWPotential(l, V0)\n",
    "    basis_sets.append(SWPBasisSet.find_Siegert_states(pot, re_kmax, re_hk,\n",
    "                                                      im_kmax, im_hk=im_hk))"
   ]
  },
  {
   "cell_type": "code",
   "execution_count": null,
   "metadata": {},
   "outputs": [],
   "source": [
    "# Plot the wavenumbers for all the potentials\n",
    "xl=3.5\n",
    "for siegerts in basis_sets:\n",
    "    siegerts.plot_wavenumbers(xlim=(-xl,xl), title=\"$V_0 = {:.2f}$\".format(siegerts.potential.depth))"
   ]
  },
  {
   "cell_type": "markdown",
   "metadata": {},
   "source": [
    "As you can see, a resonant couple has coalesced into two anti-bound states, one moving down the imaginary axis, the other moving up:"
   ]
  },
  {
   "cell_type": "code",
   "execution_count": null,
   "metadata": {},
   "outputs": [],
   "source": [
    "print(\"Anti-bound states:\")\n",
    "for siegerts in basis_sets:\n",
    "    abnds = siegerts.antibounds\n",
    "    print(\"depth:\", abnds[0].potential.depth)\n",
    "    for ab in abnds:\n",
    "        print(\"...\", ab.wavenumber)"
   ]
  },
  {
   "cell_type": "markdown",
   "metadata": {},
   "source": [
    "If the potential were to be even more decreased, then the anti-bound state moving up would cross the real axis and become a bound state, keeping the same number of antinodes inside the potential than the original resonant state. It is as if the potential was not attractive enough to fit all the Siegert states as bound states."
   ]
  },
  {
   "cell_type": "markdown",
   "metadata": {},
   "source": [
    "## Find the continuum states\n",
    "\n",
    "The continuum states are known analytically. They are in infinite number and have a positive energy (hence, continuum). This continuum can be discretized over a given grid of wavenumbers thanks to the `find_continuum` method, given a (strictly positive) maximum wavenumber `kmax` and a grid-step `hk`. An optional minimal wavenumber `kmin` can be passed as argument."
   ]
  },
  {
   "cell_type": "code",
   "execution_count": null,
   "metadata": {},
   "outputs": [],
   "source": [
    "# Let us go back to the initial potential\n",
    "V0 = 8.\n",
    "l  = 3.\n",
    "potential = SWPotential(l, V0, grid=xgrid)\n",
    "\n",
    "# Find some continuum states of this potential, whose wavenumbers range\n",
    "# fromn 1 to 2 with a wavenumber grid step of 0.25\n",
    "hk = 0.25\n",
    "kmax = 2\n",
    "continuum = SWPBasisSet.find_continuum_states(potential, kmax, hk, kmin=1)"
   ]
  },
  {
   "cell_type": "markdown",
   "metadata": {},
   "source": [
    "You can check that the result is a `SWPBasisSet` instance whose states are `SWPContinuum` instances that have the expected wavenumbers:"
   ]
  },
  {
   "cell_type": "code",
   "execution_count": null,
   "metadata": {},
   "outputs": [],
   "source": [
    "# continuum is a SWPBasisSet instance:\n",
    "assert isinstance(continuum, SWPBasisSet)\n",
    "\n",
    "# All the states in continuum are SWPContinuum instances:\n",
    "assert all([isinstance(state, SWPContinuum) for state in continuum])\n",
    "\n",
    "# Their wavenumbers correspond to the expected values:\n",
    "continuum.wavenumbers"
   ]
  },
  {
   "cell_type": "markdown",
   "metadata": {},
   "source": [
    "Note that each wavenumber is repeated twice: this is beacause there are an even and an odd continuum state for each positive wavenumber."
   ]
  },
  {
   "cell_type": "markdown",
   "metadata": {},
   "source": [
    "## Continuum states around a resonance\n",
    "\n",
    "The antinodes of the wavefunctions of continuum states wavefunctions reach a maximum inside the potential for energies corresponding to the absolute value of resonant energies. This is only true for the continuum state of the same parity as the resonance.\n",
    "\n",
    "### Around the first resonance"
   ]
  },
  {
   "cell_type": "code",
   "execution_count": null,
   "metadata": {},
   "outputs": [],
   "source": [
    "# Find some of the Siegert states once again\n",
    "siegerts = SWPBasisSet.find_Siegert_states(potential, 4, re_hk, im_kmax)\n",
    "\n",
    "# Get the first resonant state\n",
    "ires = 0\n",
    "res = siegerts.resonants[ires]\n",
    "print(\"Resonance of absolute energy: {:.3f} (parity: {})\"\n",
    "      .format(abs(res.energy), res.parity))\n",
    "\n",
    "# Define a grid of wavenumbers around that resonance \n",
    "# and find the continuum states\n",
    "hk = 0.25\n",
    "kmid = abs(res.wavenumber)\n",
    "kmin = kmid-hk\n",
    "kmax = kmid+3*hk/2\n",
    "continuum = SWPBasisSet.find_continuum_states(potential, kmax, hk, \n",
    "                                              kmin=kmin, grid=xgrid)\n",
    "\n",
    "# Plot the even continuum states\n",
    "for c in continuum.even:\n",
    "    c.abs().plot(ylim=(0,0.6), title=repr(c))"
   ]
  },
  {
   "cell_type": "markdown",
   "metadata": {},
   "source": [
    "As you can see above, the maximum of amplitude is reached at the resonant absolute energy for the even continuum states, while it is not the case for the odd continuum states below:"
   ]
  },
  {
   "cell_type": "code",
   "execution_count": null,
   "metadata": {},
   "outputs": [],
   "source": [
    "for c in continuum.odd:\n",
    "    c.abs().plot(ylim=(0,0.6), title=repr(c))"
   ]
  },
  {
   "cell_type": "markdown",
   "metadata": {},
   "source": [
    "### Around the second resonance\n",
    "\n",
    "The second resonance being odd, it is the odd continuum state wavefunction that reaches a maximum for a wavenumbereauql to the absolute value of the resonant wavenumber:"
   ]
  },
  {
   "cell_type": "code",
   "execution_count": null,
   "metadata": {},
   "outputs": [],
   "source": [
    "# Get the first resonant state\n",
    "ires = 1\n",
    "res = siegerts.resonants[ires]\n",
    "print(\"Resonance of absolute energy: {:.3f} (parity: {})\"\n",
    "      .format(abs(res.energy), res.parity))\n",
    "\n",
    "# Define a grid of wavenumbers around that resonance \n",
    "# and find the continuum states\n",
    "hk = 0.25\n",
    "kmid = abs(res.wavenumber)\n",
    "kmin = kmid-hk\n",
    "kmax = kmid+3*hk/2\n",
    "continuum = SWPBasisSet.find_continuum_states(potential, kmax, hk, \n",
    "                                              kmin=kmin, grid=xgrid)\n",
    "\n",
    "# Plot the odd continuum states\n",
    "for c in continuum.odd:\n",
    "    c.abs().plot(ylim=(0,0.6), title=repr(c))"
   ]
  },
  {
   "cell_type": "markdown",
   "metadata": {},
   "source": [
    "This concludes this tutorial showing the basics of the SiegPy module. You should be able to:\n",
    "\n",
    "* define a square-well potential with the `SWPotential` class,\n",
    "\n",
    "* find Siegert and continuum states that are eigenstates of the Hamiltonian involving a square-well potential and store them into a `SWPBasisSet` instance,\n",
    "\n",
    "* use some of their attributes and methods, especially to plot some quantities of interest.\n",
    "\n",
    "You should also know that:\n",
    "\n",
    "* there are four different types of Siegert states,\n",
    "\n",
    "* the Siegert and continuum states of the SWP are instances of the `SWPSiegert` and `SWPContinuum` classes, respectively."
   ]
  }
 ],
 "metadata": {
  "anaconda-cloud": {},
  "kernelspec": {
   "display_name": "Python 3",
   "language": "python",
   "name": "python3"
  },
  "language_info": {
   "codemirror_mode": {
    "name": "ipython",
    "version": 3
   },
   "file_extension": ".py",
   "mimetype": "text/x-python",
   "name": "python",
   "nbconvert_exporter": "python",
   "pygments_lexer": "ipython3",
   "version": "3.7.0"
  }
 },
 "nbformat": 4,
 "nbformat_minor": 2
}
