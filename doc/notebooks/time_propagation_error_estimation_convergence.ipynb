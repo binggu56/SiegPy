{
 "cells": [
  {
   "cell_type": "markdown",
   "metadata": {
    "deletable": true,
    "editable": true
   },
   "source": [
    "# Time propagation of a wavepacket: <br/> convergence of the error estimation of the Siegert states expansions\n",
    "\n",
    "This notebooks shows more refined calculations than the `time_propagation_error_estimation.ipynb` notebook. Each parameter that might affect the error estimation is varied separately, to have a better understanding on the underlying convergence as a function of all these parameters and get an idea of which values should be used to get moderately accurate results. Note that it only concentrates on the error of the exact Sigert states expansion, though."
   ]
  },
  {
   "cell_type": "markdown",
   "metadata": {
    "deletable": true,
    "editable": true
   },
   "source": [
    "**Import useful modules and classes.**"
   ]
  },
  {
   "cell_type": "code",
   "execution_count": null,
   "metadata": {
    "deletable": true,
    "editable": true
   },
   "outputs": [],
   "source": [
    "# Make the notebook aware of some of the SiegPy module classes\n",
    "from siegpy import SWPBasisSet, Gaussian\n",
    "# Other imports\n",
    "import numpy as np"
   ]
  },
  {
   "cell_type": "markdown",
   "metadata": {
    "deletable": true,
    "editable": true
   },
   "source": [
    "**Define useful functions**"
   ]
  },
  {
   "cell_type": "code",
   "execution_count": null,
   "metadata": {
    "deletable": true,
    "editable": true
   },
   "outputs": [],
   "source": [
    "def print_errors(exact, siegert_exp, dx):\n",
    "    \"\"\"\n",
    "    Function printing the absolute and relative error of a given \n",
    "    Siegert states expansion of the time propagation of a wave-packet\n",
    "    for different times.\n",
    "    \n",
    "    :param exact: Exact time-propagation of a wavepacket.\n",
    "    :type exact: 2D numpy.array\n",
    "    :param siegert_exp: Siegert states expansion of the time-\n",
    "                        propagation of the same wavepacket.\n",
    "    :type siegert_exp: 2D numpy.array\n",
    "    :param dx: Space grid-step.\n",
    "    :type: float\n",
    "    \"\"\"\n",
    "    # Print lines to initialize the table\n",
    "    title = \"  t    abs. error   rel. error\"\n",
    "    line = \"-\"*len(title)\n",
    "    print(line)\n",
    "    print(title)\n",
    "    print(line)\n",
    "    # Get the error estimations for each time\n",
    "    for i, t in enumerate(time_grid):\n",
    "        abs_err = np.trapz(np.abs(exact[i] - siegert_exp[i]), dx=dx)\n",
    "        norm = np.trapz(np.abs(exact[i]), dx=dx)\n",
    "        #abs_err = np.trapz(np.abs(exact[i] - siegert_exp[i])**2, dx=dx)\n",
    "        #norm = np.trapz(np.abs(exact[i])**2, dx=dx)\n",
    "        rel_err = abs_err / norm\n",
    "        print(\"{:.2f}   {: .3e}   {: .3e}\".format(t, abs_err, rel_err))\n",
    "    # Print lines to finalize the table\n",
    "    print(line)\n",
    "    print()\n",
    "    \n",
    "    \n",
    "def SSE_errors(filename, nres, k_max, h_k, nx, test_func, time_grid, \\\n",
    "             choice={'exact': True, 'MLE': True, 'Ber': True}):\n",
    "    \"\"\"\n",
    "    Function performing the time-propagation of an initial wave-packet\n",
    "    using different Siegert states expansions and printing the absolute \n",
    "    and relative errors when compared to the exact time-propagation of \n",
    "    this initial wavepacket. \n",
    "    \n",
    "    :param filename: Name of the file where to look for the Siegert states.\n",
    "    :type filename: str\n",
    "    :param nres: Number of resonant states to use in the Siegert states expansions.\n",
    "    :type nres: int\n",
    "    :param k_max: Wavenumber of the last continuum state involved in the exact calculations.\n",
    "    :type k_max: float\n",
    "    :param h_k: Wavenumber grid step of the continuum basis set.\n",
    "    :type h_k: float\n",
    "    :param nx: Number of space grid points.\n",
    "    :type nx: int\n",
    "    :param test_func: Initial wave-packet.\n",
    "    :type test_func: Wavefunction\n",
    "    :param time_grid: Times at which the\n",
    "    :type time_grid: list or numpy.array\n",
    "    :param choice: Optional, used to say which Siegert state expansion is desired.\n",
    "    :type choice: dict\n",
    "    \"\"\"\n",
    "    # Siegert states basis set initialized from a file\n",
    "    siegerts = SWPBasisSet.from_file(filename, nres=nres)\n",
    "    \n",
    "    # Read the potential from a data file\n",
    "    potential = siegerts[0].potential\n",
    "    l = potential.width\n",
    "    \n",
    "    # Define a grid space\n",
    "    xgrid = np.linspace(-l/2, l/2, nx)\n",
    "    dx = xgrid[1] - xgrid[0]\n",
    "    \n",
    "    # Discretize the Siegert states over the grid\n",
    "    for s in siegerts:\n",
    "        s.grid = xgrid\n",
    "\n",
    "    # Exact basis set\n",
    "    cont = SWPBasisSet.find_continuum_states(potential, k_max, h_k, grid=xgrid)\n",
    "    exact = cont + siegerts.bounds\n",
    "\n",
    "    # Evaluation of the exact time propagation\n",
    "    exact_tp = exact.exact_propagation(test_func, time_grid)\n",
    "    \n",
    "    if choice['exact']:\n",
    "        # Evaluation of the exact Siegert expansion of the time propagation\n",
    "        exact_S_tp = siegerts.exact_Siegert_propagation(test_func, time_grid)\n",
    "        # Find the error with respect ot the exact time propagation\n",
    "        print(\"         Exact Siegert\")\n",
    "        print_errors(exact_tp, exact_S_tp, dx)\n",
    "\n",
    "    if choice['MLE']:\n",
    "        # Evaluation of the Mittag-Leffler expansion of the time propagation\n",
    "        MLE_tp = siegerts.MLE_propagation(test_func, time_grid)\n",
    "        # Find the error with respect ot the exact time propagation\n",
    "        print(\"              MLE\")\n",
    "        print_errors(exact_tp, MLE_tp, dx)\n",
    "\n",
    "    if choice['Ber']:\n",
    "        # Evaluation of the Berggren expansion of the time propagation\n",
    "        Ber_tp = siegerts.Berggren_propagation(test_func, time_grid)       \n",
    "        # Find the error with respect ot the exact time propagation \n",
    "        print(\"            Berggren\")\n",
    "        print_errors(exact_tp, Ber_tp, dx)"
   ]
  },
  {
   "cell_type": "markdown",
   "metadata": {
    "deletable": true,
    "editable": true
   },
   "source": [
    "## Define a potential\n",
    "\n",
    "The potential under consideration and its Siegert states are stored in a file."
   ]
  },
  {
   "cell_type": "code",
   "execution_count": null,
   "metadata": {
    "deletable": true,
    "editable": true
   },
   "outputs": [],
   "source": [
    "# Siegert states basis set initialized from a file\n",
    "filename = 'siegerts.dat'\n",
    "siegerts = SWPBasisSet.from_file(filename)\n",
    "\n",
    "# Define the potential\n",
    "potential = siegerts[0].potential\n",
    "l = potential.width"
   ]
  },
  {
   "cell_type": "markdown",
   "metadata": {
    "deletable": true,
    "editable": true
   },
   "source": [
    "## Define a time grid"
   ]
  },
  {
   "cell_type": "code",
   "execution_count": null,
   "metadata": {
    "deletable": true,
    "editable": true
   },
   "outputs": [],
   "source": [
    "time_grid = np.linspace(0, 3, 13)"
   ]
  },
  {
   "cell_type": "markdown",
   "metadata": {
    "deletable": true,
    "editable": true
   },
   "source": [
    "## Case 1: initial wave-packet with a small initial momentum\n",
    "\n",
    "The first initial wave-packet considered uses a small initial momentum."
   ]
  },
  {
   "cell_type": "code",
   "execution_count": null,
   "metadata": {
    "deletable": true,
    "editable": true
   },
   "outputs": [],
   "source": [
    "l = potential.width\n",
    "sigma = l/20. # width of the Gaussian\n",
    "x_c   = -l/4. # center of the Gaussian\n",
    "k_0   = 1.    # initial momentum\n",
    "gauss_small_momentum = Gaussian(sigma, x_c, k0=k_0)"
   ]
  },
  {
   "cell_type": "markdown",
   "metadata": {
    "deletable": true,
    "editable": true
   },
   "source": [
    "### Influence of the space grid"
   ]
  },
  {
   "cell_type": "code",
   "execution_count": null,
   "metadata": {
    "deletable": true,
    "editable": true
   },
   "outputs": [],
   "source": [
    "for nx in [201, 401, 801, 1601]:\n",
    "    print(nx)\n",
    "    SSE_errors(filename, 50, 40, 0.01, nx, gauss_small_momentum, time_grid, \\\n",
    "             choice={'exact': True, 'MLE': False, 'Ber': False})\n",
    "    #SSE_errors(filename, 50, 40, 0.01, nx, gauss_small_momentum, time_grid)"
   ]
  },
  {
   "cell_type": "markdown",
   "metadata": {
    "deletable": true,
    "editable": true
   },
   "source": [
    "A large number of space grid points is necessary for the error estimation to be considered as converged with respect to this parameter. Still, using a rather small grid with 201 points already gives a correct error estimation."
   ]
  },
  {
   "cell_type": "markdown",
   "metadata": {
    "deletable": true,
    "editable": true
   },
   "source": [
    "### Influence of the range of the continuum grid"
   ]
  },
  {
   "cell_type": "code",
   "execution_count": null,
   "metadata": {
    "deletable": true,
    "editable": true
   },
   "outputs": [],
   "source": [
    "for kmax in [40, 80]:\n",
    "    print(kmax)\n",
    "    SSE_errors(filename, 50, kmax, 0.01, 1601, gauss_small_momentum, time_grid, \\\n",
    "             choice={'exact': True, 'MLE': False, 'Ber': False})\n",
    "    #SSE_errors(filename, 50, kmax, 0.01, 1601, gauss_small_momentum, time_grid)"
   ]
  },
  {
   "cell_type": "markdown",
   "metadata": {
    "deletable": true,
    "editable": true
   },
   "source": [
    "The exact time-propagation could already be considered as converged with respect to the range of the wavenumbers of continuum states."
   ]
  },
  {
   "cell_type": "markdown",
   "metadata": {
    "deletable": true,
    "editable": true
   },
   "source": [
    "### Influence of the wavenumber step of the continuum grid"
   ]
  },
  {
   "cell_type": "code",
   "execution_count": null,
   "metadata": {
    "deletable": true,
    "editable": true
   },
   "outputs": [],
   "source": [
    "for hk in [0.1, 0.05, 0.01, 0.005]:\n",
    "    print(hk)\n",
    "    SSE_errors(filename, 50, 40, hk, 1601, gauss_small_momentum, time_grid, \\\n",
    "             choice={'exact': True, 'MLE': False, 'Ber': False})\n",
    "    #SSE_errors(filename, 50, 40, hk, 1601, gauss_small_momentum, time_grid)"
   ]
  },
  {
   "cell_type": "markdown",
   "metadata": {
    "deletable": true,
    "editable": true
   },
   "source": [
    "If the wavenumber grid is not dense enough, then the error estimation can be off by more than an order of magnitude. To reach a convergence with respect to this parameter is difficult (just like the convergence with respect to the space grid density)."
   ]
  },
  {
   "cell_type": "markdown",
   "metadata": {
    "deletable": true,
    "editable": true
   },
   "source": [
    "### Influence of the number of Siegert states\n",
    "\n",
    "We increase the range of the wavenumbers of the continuum states and test the influence of the number of Siegert states."
   ]
  },
  {
   "cell_type": "code",
   "execution_count": null,
   "metadata": {
    "deletable": true,
    "editable": true
   },
   "outputs": [],
   "source": [
    "for n_res in [25, 50, 78]:\n",
    "    print(n_res)\n",
    "    SSE_errors(filename, n_res, 60, 0.005, 1601, gauss_small_momentum, time_grid, \\\n",
    "             choice={'exact': True, 'MLE': False, 'Ber': False})\n",
    "    #SSE_errors(filename, n_res, 200, 0.01, 1601, gauss_small_momentum, time_grid)"
   ]
  },
  {
   "cell_type": "markdown",
   "metadata": {
    "deletable": true,
    "editable": true
   },
   "source": [
    "There is no difference in using 50 or 78 Siegert states, the error estimation is converged with respect to this parameter. Also note that using 50 or 78 Siegert states with a maximal continuum states wavenumber $k_{max} = 60$ gives the same error as in the previous calculation using 50 Siegert states and $k_{max} = 40$."
   ]
  },
  {
   "cell_type": "markdown",
   "metadata": {
    "deletable": true,
    "editable": true
   },
   "source": [
    "## Case 2: initial wave-packet with large initial momentum\n",
    "\n",
    "Similar calculations can be produced in this case. The trends being similar than in the previous case, it is more interesting to see how both cases compare."
   ]
  },
  {
   "cell_type": "code",
   "execution_count": null,
   "metadata": {
    "deletable": true,
    "editable": true
   },
   "outputs": [],
   "source": [
    "k_0 = 20. # initial momentum\n",
    "gauss_large_momentum = Gaussian(sigma, x_c, k0=k_0)"
   ]
  },
  {
   "cell_type": "markdown",
   "metadata": {
    "deletable": true,
    "editable": true
   },
   "source": [
    "### Influence of the space grid"
   ]
  },
  {
   "cell_type": "code",
   "execution_count": null,
   "metadata": {
    "deletable": true,
    "editable": true
   },
   "outputs": [],
   "source": [
    "for nx in [201, 401, 801, 1601]:\n",
    "    print(nx)\n",
    "    SSE_errors(filename, 50, 40, 0.01, nx, gauss_large_momentum, time_grid, \\\n",
    "             choice={'exact': True, 'MLE': False, 'Ber': False})\n",
    "    #SSE_errors(filename, 50, 40, 0.01, nx, gauss_large_momentum, time_grid)"
   ]
  },
  {
   "cell_type": "markdown",
   "metadata": {
    "deletable": true,
    "editable": true
   },
   "source": [
    "It is easier to reach a convergence of the error with respect to the space grid density with this large initial momentum: there is almost no difference between using 201 or 1601 points."
   ]
  },
  {
   "cell_type": "markdown",
   "metadata": {
    "deletable": true,
    "editable": true
   },
   "source": [
    "### Influence of the range of the continuum grid"
   ]
  },
  {
   "cell_type": "code",
   "execution_count": null,
   "metadata": {
    "deletable": true,
    "editable": true
   },
   "outputs": [],
   "source": [
    "for kmax in [40, 60, 80]:\n",
    "    print(kmax)\n",
    "    SSE_errors(filename, 50, kmax, 0.01, 1601, gauss_large_momentum, time_grid, \\\n",
    "             choice={'exact': True, 'MLE': False, 'Ber': False})\n",
    "    #SSE_errors(filename, 50, kmax, 0.01, 1601, gauss_large_momentum, time_grid)"
   ]
  },
  {
   "cell_type": "markdown",
   "metadata": {
    "deletable": true,
    "editable": true
   },
   "source": [
    "The grid of continuum states extending up to wavenumbers $k_{max} = 40$ is already almost converged, but it must be larger than in the case of the smaller initial momentum. This is easily explained by a comparative study of the convergence of the completeness relation of the initial wave-packets with small and large initial momenta."
   ]
  },
  {
   "cell_type": "markdown",
   "metadata": {
    "deletable": true,
    "editable": true
   },
   "source": [
    "### Influence of the wavenumber step of the continuum grid"
   ]
  },
  {
   "cell_type": "code",
   "execution_count": null,
   "metadata": {
    "deletable": true,
    "editable": true
   },
   "outputs": [],
   "source": [
    "for hk in [0.1, 0.05, 0.01, 0.005, 0.0025]:\n",
    "    print(hk)\n",
    "    SSE_errors(filename, 50, 60, hk, 1601, gauss_large_momentum, time_grid, \\\n",
    "             choice={'exact': True, 'MLE': False, 'Ber': False})\n",
    "    #SSE_errors(filename, 50, 40, hk, 1601, gauss_large_momentum, time_grid)"
   ]
  },
  {
   "cell_type": "markdown",
   "metadata": {
    "deletable": true,
    "editable": true
   },
   "source": [
    "A smaller wavenumber grid step is required to reach a convergence. You can also see that the smaller the wavenumber grid step is, the larger the times at which the error estimation is converged ($h_k = 0.1$ is enough for $t=0$, $h_k = 0.05$ is enough up to $t=1.0$ and $h_k = 0.01$ shows converged results at least up to $t = 3.0$)."
   ]
  },
  {
   "cell_type": "markdown",
   "metadata": {
    "deletable": true,
    "editable": true
   },
   "source": [
    "### Influence of the number of Siegert states"
   ]
  },
  {
   "cell_type": "code",
   "execution_count": null,
   "metadata": {
    "deletable": true,
    "editable": true
   },
   "outputs": [],
   "source": [
    "for n_res in [25, 50, 78]:\n",
    "    print(n_res)\n",
    "    SSE_errors(filename, n_res, 60, 0.005, 1601, gauss_large_momentum, time_grid, \\\n",
    "             choice={'exact': True, 'MLE': False, 'Ber': False})\n",
    "    #SSE_errors(filename, n_res, 200, 0.01, 1601, gauss_large_momentum, time_grid)"
   ]
  },
  {
   "cell_type": "markdown",
   "metadata": {
    "deletable": true,
    "editable": true
   },
   "source": [
    "Finally, and in the same manner as for the $k_{max}$ parameter, it requires more Siegert states to reach a convergence of the error estimation."
   ]
  }
 ],
 "metadata": {
  "kernelspec": {
   "display_name": "Python 3",
   "language": "python",
   "name": "python3"
  },
  "language_info": {
   "codemirror_mode": {
    "name": "ipython",
    "version": 3
   },
   "file_extension": ".py",
   "mimetype": "text/x-python",
   "name": "python",
   "nbconvert_exporter": "python",
   "pygments_lexer": "ipython3",
   "version": "3.6.2"
  }
 },
 "nbformat": 4,
 "nbformat_minor": 2
}
